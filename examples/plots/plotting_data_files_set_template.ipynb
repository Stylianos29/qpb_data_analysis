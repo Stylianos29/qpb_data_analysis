{
 "cells": [
  {
   "cell_type": "markdown",
   "metadata": {},
   "source": [
    "# Chebyshev_several_m_varying_EpsLanczos"
   ]
  },
  {
   "cell_type": "markdown",
   "metadata": {},
   "source": [
    "### Dependencies:"
   ]
  },
  {
   "cell_type": "code",
   "execution_count": null,
   "metadata": {},
   "outputs": [],
   "source": [
    "import os\n",
    "\n",
    "from library import custom_plotting, filesystem_utilities, data_processing"
   ]
  },
  {
   "cell_type": "markdown",
   "metadata": {},
   "source": [
    "### Set constants:"
   ]
  },
  {
   "cell_type": "code",
   "execution_count": null,
   "metadata": {},
   "outputs": [],
   "source": [
    "from library import ROOT\n",
    "\n",
    "PROCESSED_PARAMETER_VALUES_CSV_FILE_FULL_PATH = os.path.join(\n",
    "    ROOT, \"data_files/processed/invert/Chebyshev_several_m_varying_EpsLanczos/processed_parameter_values.csv\",\n",
    ")\n",
    "if not filesystem_utilities.is_valid_file(PROCESSED_PARAMETER_VALUES_CSV_FILE_FULL_PATH):\n",
    "    raise ValueError(\"Invalid .csv file path.\")\n",
    "\n",
    "PCAC_MASS_ESTIMATES_CSV_FILE_FULL_PATH = os.path.join(\n",
    "    ROOT, \"data_files/processed/invert/Chebyshev_several_m_varying_EpsLanczos/PCAC_mass_estimates.csv\"\n",
    ")\n",
    "if not filesystem_utilities.is_valid_file(PCAC_MASS_ESTIMATES_CSV_FILE_FULL_PATH):\n",
    "    raise ValueError(\"Invalid .csv file path.\")\n",
    "\n",
    "DATA_FILES_SET_PLOTS_DIRECTORY = os.path.join(\n",
    "    ROOT, \"output/plots/invert/Chebyshev_several_m_varying_EpsLanczos\",\n",
    ")\n",
    "if not filesystem_utilities.is_valid_directory(DATA_FILES_SET_PLOTS_DIRECTORY):\n",
    "    raise ValueError(\"Invalid plots base directory path.\")"
   ]
  },
  {
   "cell_type": "markdown",
   "metadata": {},
   "source": [
    "### Import .csv file and initialize objects:"
   ]
  },
  {
   "cell_type": "code",
   "execution_count": null,
   "metadata": {},
   "outputs": [],
   "source": [
    "processed_parameter_values_dataframe = data_processing.load_csv(PROCESSED_PARAMETER_VALUES_CSV_FILE_FULL_PATH)\n",
    "processed_parameter_values_plotter = custom_plotting.DataPlotter(processed_parameter_values_dataframe, DATA_FILES_SET_PLOTS_DIRECTORY)\n",
    "\n",
    "PCAC_mass_estimates_dataframe = data_processing.load_csv(PCAC_MASS_ESTIMATES_CSV_FILE_FULL_PATH)\n",
    "PCAC_mass_estimates_plotter = custom_plotting.DataPlotter(PCAC_mass_estimates_dataframe, DATA_FILES_SET_PLOTS_DIRECTORY)"
   ]
  },
  {
   "cell_type": "markdown",
   "metadata": {},
   "source": [
    "### DataFrame fields statistics:"
   ]
  },
  {
   "cell_type": "code",
   "execution_count": null,
   "metadata": {},
   "outputs": [
    {
     "name": "stdout",
     "output_type": "stream",
     "text": [
      "Single-valued fields : unique value   | Multivalued fields : # of unique values\n",
      "--------------------------------------------------------------------------------\n",
      "Main_program_type: invert               Filename: 185\n",
      "MPI_geometry: (8, 4, 4)                 Kernel_operator_type: 2\n",
      "Threads_per_process: 1                  Configuration_label: 5\n",
      "QCD_beta_value: 6.20                    Plaquette: 5\n",
      "APE_alpha: 0.72                         Number_of_Chebyshev_terms: 2\n",
      "APE_iterations: 1                       Lanczos_epsilon: 11\n",
      "Rho_value: 1.0                          Minimum_eigenvalue_squared: 84\n",
      "Bare_mass: 0.15                         Maximum_eigenvalue_squared: 91\n",
      "Clover_coefficient: 0                   Total_overhead_time: 185\n",
      "Maximum_Lanczos_iterations: 10000       Total_number_of_Lanczos_iterations: 85\n",
      "Delta_Min: 1.00                         Total_calculation_time: 185\n",
      "Delta_Max: 1.00                         Condition_number: 91\n",
      "Number_of_spinors: 12                   Average_number_of_CG_iterations_per_spinor: 26\n",
      "Overlap_operator_method: Chebyshev      Average_number_of_MV_multiplications_per_spinor: 178\n",
      "Temporal_lattice_size: 48               \n",
      "Spatial_lattice_size: 24                \n",
      "Number_of_vectors: 1                    \n"
     ]
    }
   ],
   "source": [
    "single_valued_fields_dictionary = processed_parameter_values_plotter.single_valued_fields_dictionary\n",
    "multivalued_fields_dictionary = processed_parameter_values_plotter.multivalued_fields_dictionary\n",
    "data_processing.print_dictionaries_side_by_side(\n",
    "    single_valued_fields_dictionary, multivalued_fields_dictionary,\n",
    "    left_column_title=\"Single-valued fields : unique value\", \n",
    "    right_column_title=\"Multivalued fields : # of unique values\")"
   ]
  },
  {
   "cell_type": "code",
   "execution_count": null,
   "metadata": {},
   "outputs": [
    {
     "name": "stdout",
     "output_type": "stream",
     "text": [
      "Single-valued fields : unique value   | Multivalued fields : # of unique values\n",
      "--------------------------------------------------------------------------------\n",
      "APE_alpha: 0.72                         Kernel_operator_type: 2\n",
      "APE_iterations: 1                       Lanczos_epsilon: 11\n",
      "Bare_mass: 0.15                         Number_of_Chebyshev_terms: 2\n",
      "Clover_coefficient: 0                   Jackknife_analysis_identifier: 37\n",
      "Delta_Max: 1.00                         Average_calculation_time_per_spinor_per_configuration: 37\n",
      "Delta_Min: 1.00                         Average_number_of_MV_multiplications_per_spinor_per_configuration: 37\n",
      "MPI_geometry: (8, 4, 4)                 PCAC_mass_estimate: 37\n",
      "Main_program_type: invert               \n",
      "Maximum_Lanczos_iterations: 10000       \n",
      "Number_of_spinors: 12                   \n",
      "Number_of_vectors: 1                    \n",
      "Overlap_operator_method: Chebyshev      \n",
      "QCD_beta_value: 6.20                    \n",
      "Rho_value: 1.0                          \n",
      "Spatial_lattice_size: 24                \n",
      "Temporal_lattice_size: 48               \n",
      "Threads_per_process: 1                  \n",
      "Number_of_gauge_configurations: 5       \n"
     ]
    }
   ],
   "source": [
    "single_valued_fields_dictionary = PCAC_mass_estimates_plotter.single_valued_fields_dictionary\n",
    "multivalued_fields_dictionary = PCAC_mass_estimates_plotter.multivalued_fields_dictionary\n",
    "data_processing.print_dictionaries_side_by_side(\n",
    "    single_valued_fields_dictionary, multivalued_fields_dictionary,\n",
    "    left_column_title=\"Single-valued fields : unique value\", \n",
    "    right_column_title=\"Multivalued fields : # of unique values\")"
   ]
  },
  {
   "cell_type": "markdown",
   "metadata": {},
   "source": [
    "## PCAC mass plots"
   ]
  },
  {
   "cell_type": "code",
   "execution_count": null,
   "metadata": {},
   "outputs": [],
   "source": [
    "xaxis_variable = \"Lanczos_epsilon\"\n",
    "yaxis_variable = \"PCAC_mass_estimate\"\n",
    "\n",
    "PCAC_mass_estimates_plotter.set_pair_of_variables(xaxis_variable, yaxis_variable)\n",
    "\n",
    "PCAC_mass_estimates_plotter.plot_data(\n",
    "    clear_existing_plots=True,\n",
    "    plot_title_width=100,\n",
    "    )\n",
    "\n",
    "PCAC_mass_estimates_plotter.plot_data(\n",
    "    clear_existing_plots=True,\n",
    "    legend_location=\"center right\",\n",
    "    grouping_field='Number_of_Chebyshev_terms',\n",
    "    )"
   ]
  }
 ],
 "metadata": {
  "kernelspec": {
   "display_name": "KLenv",
   "language": "python",
   "name": "python3"
  },
  "language_info": {
   "name": "python",
   "version": "3.10.15"
  }
 },
 "nbformat": 4,
 "nbformat_minor": 2
}
