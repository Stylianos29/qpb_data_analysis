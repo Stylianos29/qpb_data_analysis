{
 "cells": [
  {
   "cell_type": "markdown",
   "metadata": {},
   "source": [
    "# Data files set name"
   ]
  },
  {
   "cell_type": "markdown",
   "metadata": {},
   "source": [
    "### Dependencies"
   ]
  },
  {
   "cell_type": "code",
   "execution_count": null,
   "metadata": {},
   "outputs": [],
   "source": [
    "import os\n",
    "\n",
    "from library import ROOT, is_valid_file, is_valid_directory, load_csv, DataPlotter"
   ]
  },
  {
   "cell_type": "markdown",
   "metadata": {},
   "source": [
    "### Constants"
   ]
  },
  {
   "cell_type": "code",
   "execution_count": null,
   "metadata": {},
   "outputs": [],
   "source": [
    "CSV_FILE_FULL_PATH = os.path.join(\n",
    "    ROOT,\n",
    "    \"data_files/processed/sign_squared_violation/Chebyshev_several_config_varying_N/\"\n",
    "    \"processed_parameter_values.csv\",\n",
    ")\n",
    "if not is_valid_file(CSV_FILE_FULL_PATH):\n",
    "    raise ValueError(\".\")\n",
    "\n",
    "PLOTS_DIRECTORY = os.path.join(\n",
    "    ROOT,\n",
    "    \"output/plots/sign_squared_violation/Chebyshev_several_config_varying_N\",\n",
    ")\n",
    "if not is_valid_directory(PLOTS_DIRECTORY):\n",
    "    raise ValueError(\".\")"
   ]
  },
  {
   "cell_type": "markdown",
   "metadata": {},
   "source": [
    "### Import .csv file and initialize objects"
   ]
  },
  {
   "cell_type": "code",
   "execution_count": null,
   "metadata": {},
   "outputs": [],
   "source": [
    "processed_parameter_values_dataframe = load_csv(CSV_FILE_FULL_PATH)\n",
    "processed_parameter_values_plotter = DataPlotter(\n",
    "    processed_parameter_values_dataframe, PLOTS_DIRECTORY\n",
    ")"
   ]
  },
  {
   "cell_type": "markdown",
   "metadata": {},
   "source": [
    "### Uniqueness report"
   ]
  },
  {
   "cell_type": "code",
   "execution_count": null,
   "metadata": {},
   "outputs": [
    {
     "name": "stdout",
     "output_type": "stream",
     "text": [
      "Single-valued fields: unique value        | Multivalued fields: No of unique values\n",
      "-------------------------------------------------------------------------------------\n",
      "                                 TUNABLE PARAMETERS\n",
      "APE_alpha: 0.72                           | Configuration_label: 12\n",
      "APE_iterations: 1                         | Kernel_operator_type: 2\n",
      "Clover_coefficient: 0                     | Number_of_Chebyshev_terms: 20\n",
      "Delta_Max: 1.10                           | \n",
      "Delta_Min: 0.50                           | \n",
      "Lanczos_epsilon: 1e-10                    | \n",
      "MPI_geometry: (2, 2, 2)                   | \n",
      "Main_program_type: sign_squared_violation | \n",
      "Maximum_Lanczos_iterations: 10000         | \n",
      "Number_of_vectors: 10                     | \n",
      "Overlap_operator_method: Chebyshev        | \n",
      "QCD_beta_value: 6.20                      | \n",
      "Rho_value: 1                              | \n",
      "Threads_per_process: 16                   | \n",
      "\n",
      "                                  OUTPUT QUANTITIES\n",
      "Number_of_cores: 128                      | Adjusted_average_core_hours_per_vector: 480\n",
      "Spatial_lattice_size: 24                  | Average_core_hours_per_vector: 480\n",
      "Temporal_lattice_size: 48                 | Average_number_of_MV_multiplications_per_vector: 351\n",
      "                                          | Average_sign_squared_violation_values: 480\n",
      "                                          | Average_wall_clock_time_per_vector: 480\n",
      "                                          | Condition_number: 24\n",
      "                                          | Filename: 480\n",
      "                                          | Maximum_eigenvalue_squared: 24\n",
      "                                          | Minimum_eigenvalue_squared: 24\n",
      "                                          | Plaquette: 12\n",
      "                                          | Total_calculation_time: 480\n",
      "                                          | Total_number_of_Lanczos_iterations: 25\n",
      "                                          | Total_overhead_time: 480\n"
     ]
    }
   ],
   "source": [
    "uniqueness_report = (\n",
    "    processed_parameter_values_plotter.generate_column_uniqueness_report(max_width=85)\n",
    ")\n",
    "print(uniqueness_report)"
   ]
  },
  {
   "cell_type": "markdown",
   "metadata": {},
   "source": [
    "## Plots"
   ]
  },
  {
   "cell_type": "markdown",
   "metadata": {},
   "source": [
    "### "
   ]
  },
  {
   "cell_type": "markdown",
   "metadata": {},
   "source": [
    "### Average sign squared_violation_values Vs Number of Chebyshev terms"
   ]
  },
  {
   "cell_type": "code",
   "execution_count": null,
   "metadata": {},
   "outputs": [
    {
     "name": "stdout",
     "output_type": "stream",
     "text": [
      "List of reduced multivalued tunable parameter names:\n",
      "['Kernel_operator_type']\n",
      "List of reduced multivalued tunable parameter names:\n",
      "['Configuration_label']\n"
     ]
    }
   ],
   "source": [
    "xaxis_variable = \"Number_of_Chebyshev_terms\"\n",
    "yaxis_variable = \"Average_sign_squared_violation_values\"\n",
    "\n",
    "processed_parameter_values_plotter.set_plot_variables(\n",
    "    xaxis_variable,\n",
    "    yaxis_variable,\n",
    "    # clear_existing=True,\n",
    ")\n",
    "\n",
    "processed_parameter_values_plotter.restrict_dataframe(\n",
    "    filter_func=lambda df: df[yaxis_variable].apply(lambda x: x[0] > 5e-25)\n",
    ")\n",
    "\n",
    "custom_plot_title = {\n",
    "    \"Wilson\": \"Wilson Kernel\",\n",
    "    \"Brillouin\": \"Brillouin Kernel\",\n",
    "}\n",
    "\n",
    "processed_parameter_values_plotter.plot(\n",
    "    grouping_variable=\"Configuration_label\",\n",
    "    labeling_variable=\"Condition_number\",\n",
    "    sorting_variable=\"Condition_number\",\n",
    "    sort_ascending=False,\n",
    "    yaxis_log_scale=True,\n",
    "    include_legend_title=False,\n",
    "    legend_location=\"upper right\",\n",
    "    right_margin_adjustment=0.94,\n",
    "    top_margin_adjustment=0.92,\n",
    "    xlim=(-10, 600),\n",
    "    include_plot_title=True,\n",
    "    custom_plot_titles_dict=custom_plot_title,\n",
    "    bold_title=True,\n",
    "    title_size=14,\n",
    "    marker_size=6,\n",
    "    font_size=12,\n",
    ")\n",
    "\n",
    "processed_parameter_values_plotter.restore_original_dataframe()"
   ]
  }
 ],
 "metadata": {
  "kernelspec": {
   "display_name": "KLenv",
   "language": "python",
   "name": "python3"
  },
  "language_info": {
   "codemirror_mode": {
    "name": "ipython",
    "version": 3
   },
   "file_extension": ".py",
   "mimetype": "text/x-python",
   "name": "python",
   "nbconvert_exporter": "python",
   "pygments_lexer": "ipython3",
   "version": "3.10.15"
  }
 },
 "nbformat": 4,
 "nbformat_minor": 2
}
