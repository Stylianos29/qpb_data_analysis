{
 "cells": [
  {
   "cell_type": "markdown",
   "metadata": {},
   "source": [
    "# Data files set name"
   ]
  },
  {
   "cell_type": "markdown",
   "metadata": {},
   "source": [
    "### Dependencies:"
   ]
  },
  {
   "cell_type": "code",
   "execution_count": null,
   "metadata": {},
   "outputs": [],
   "source": [
    "import os\n",
    "\n",
    "import pandas as pd\n",
    "import copy\n",
    "from tabulate import tabulate\n",
    "import decimal\n",
    "\n",
    "from library import filesystem_utilities, data_processing"
   ]
  },
  {
   "cell_type": "markdown",
   "metadata": {},
   "source": [
    "### Set constants:"
   ]
  },
  {
   "cell_type": "code",
   "execution_count": null,
   "metadata": {},
   "outputs": [],
   "source": [
    "from library import ROOT\n",
    "\n",
    "PROCESSED_PARAMETER_VALUES_CSV_FILE_FULL_PATH = os.path.join(\n",
    "    ROOT, \"data_files/processed/invert/Chebyshev_several_config_varying_N/processed_parameter_values.csv\",\n",
    ")\n",
    "if not filesystem_utilities.is_valid_file(PROCESSED_PARAMETER_VALUES_CSV_FILE_FULL_PATH):\n",
    "    raise ValueError(\"Invalid .csv file path.\")\n",
    "\n",
    "\n",
    "DATA_FILES_SET_PLOTS_DIRECTORY = os.path.join(\n",
    "    ROOT, \"output/plots/invert/Chebyshev_several_config_varying_N\",\n",
    ")\n",
    "if not filesystem_utilities.is_valid_directory(DATA_FILES_SET_PLOTS_DIRECTORY):\n",
    "    raise ValueError(\"Invalid plots base directory path.\")"
   ]
  },
  {
   "cell_type": "markdown",
   "metadata": {},
   "source": [
    "### Import .csv file and initialize objects:"
   ]
  },
  {
   "cell_type": "code",
   "execution_count": null,
   "metadata": {},
   "outputs": [],
   "source": [
    "processed_parameter_values_dataframe = data_processing.load_csv(PROCESSED_PARAMETER_VALUES_CSV_FILE_FULL_PATH)\n",
    "processed_parameter_values_analyzer = data_processing.DataFrameAnalyzer(processed_parameter_values_dataframe)"
   ]
  },
  {
   "cell_type": "markdown",
   "metadata": {},
   "source": [
    "### DataFrame fields statistics:"
   ]
  },
  {
   "cell_type": "code",
   "execution_count": null,
   "metadata": {},
   "outputs": [
    {
     "name": "stdout",
     "output_type": "stream",
     "text": [
      "Single-valued fields : unique value   | Multivalued fields : # of unique values\n",
      "--------------------------------------------------------------------------------\n",
      "Main_program_type: invert               Filename: 1333\n",
      "Threads_per_process: 1                  Kernel_operator_type: 2\n",
      "QCD_beta_value: 6.20                    MPI_geometry: 4\n",
      "APE_alpha: 0.72                         Configuration_label: 65\n",
      "APE_iterations: 1                       Bare_mass: 13\n",
      "Rho_value: 1.0                          Plaquette: 65\n",
      "Clover_coefficient: 0                   Number_of_Chebyshev_terms: 42\n",
      "Lanczos_epsilon: 1e-10                  Minimum_eigenvalue_squared: 113\n",
      "Maximum_Lanczos_iterations: 10000       Maximum_eigenvalue_squared: 116\n",
      "Delta_Min: 0.50                         Total_overhead_time: 1333\n",
      "Delta_Max: 1.10                         Total_number_of_Lanczos_iterations: 84\n",
      "Number_of_spinors: 12                   Total_calculation_time: 1333\n",
      "Overlap_operator_method: Chebyshev      Condition_number: 116\n",
      "CG_epsilon: 1e-06                       Average_number_of_CG_iterations_per_spinor: 429\n",
      "Temporal_lattice_size: 48               Average_number_of_MV_multiplications_per_spinor: 1331\n",
      "Spatial_lattice_size: 24                \n",
      "Number_of_vectors: 1                    \n"
     ]
    }
   ],
   "source": [
    "single_valued_fields_dictionary = processed_parameter_values_analyzer.single_valued_fields_dictionary\n",
    "multivalued_fields_dictionary = processed_parameter_values_analyzer.multivalued_fields_dictionary\n",
    "data_processing.print_dictionaries_side_by_side(\n",
    "    single_valued_fields_dictionary, multivalued_fields_dictionary,\n",
    "    left_column_title=\"Single-valued fields : unique value\", \n",
    "    right_column_title=\"Multivalued fields : # of unique values\")"
   ]
  },
  {
   "cell_type": "markdown",
   "metadata": {},
   "source": [
    "## Tables"
   ]
  },
  {
   "cell_type": "markdown",
   "metadata": {},
   "source": [
    "## Bare_mass Vs Number_of_Chebyshev_terms"
   ]
  },
  {
   "cell_type": "code",
   "execution_count": null,
   "metadata": {},
   "outputs": [
    {
     "name": "stdout",
     "output_type": "stream",
     "text": [
      "{'Kernel_operator_type': 'Wilson'}\n",
      "|   Bare_mass |   90 |   100 |   110 |   120 |   130 |   140 |   150 |   160 |   170 |   180 |   190 |   200 |   210 |   220 |   230 |   240 |   250 |   260 |   270 |   280 |   290 |   300 |\n",
      "|------------:|-----:|------:|------:|------:|------:|------:|------:|------:|------:|------:|------:|------:|------:|------:|------:|------:|------:|------:|------:|------:|------:|------:|\n",
      "|        0.03 |    3 |     3 |     0 |     3 |     0 |     3 |     0 |     3 |     0 |     3 |     0 |     3 |     0 |     3 |     0 |     3 |     0 |     3 |     0 |     3 |     0 |     3 |\n",
      "|        0.05 |    3 |     3 |     0 |     3 |     0 |     3 |     0 |     3 |     0 |     3 |     0 |     3 |     0 |     3 |     0 |     3 |     0 |     3 |     0 |     3 |     0 |     3 |\n",
      "|        0.07 |    3 |     3 |     0 |     3 |     0 |     3 |     0 |     3 |     0 |     3 |     0 |     3 |     0 |     3 |     0 |     3 |     0 |     3 |     0 |     3 |     0 |     3 |\n",
      "|        0.09 |    3 |     3 |     0 |     3 |     0 |     3 |     0 |     3 |     0 |     3 |     0 |     3 |     0 |     3 |     0 |     3 |     0 |     3 |     0 |     2 |     0 |     3 |\n",
      "|        0.11 |    3 |     3 |     0 |     3 |     0 |     3 |     0 |     3 |     0 |     3 |     0 |     3 |     0 |     3 |     0 |     3 |     0 |     3 |     0 |     3 |     0 |     3 |\n",
      "|        0.13 |    3 |     3 |     3 |     3 |     3 |     3 |     3 |     3 |     3 |     3 |     3 |     3 |     3 |     3 |     3 |     3 |     3 |     3 |     3 |     3 |     3 |     3 |\n",
      "|        0.25 |    3 |     3 |     3 |     2 |     3 |     3 |     3 |     3 |     3 |     3 |     3 |     3 |     2 |     3 |     3 |     3 |     2 |     3 |     3 |     3 |     3 |     3 |\n",
      "{'Kernel_operator_type': 'Brillouin'}\n",
      "|   Bare_mass |   15 |   20 |   25 |   30 |   35 |   40 |   45 |   50 |   55 |   60 |   65 |   70 |   75 |   80 |   85 |   90 |   95 |   100 |   105 |   110 |   115 |   120 |\n",
      "|------------:|-----:|-----:|-----:|-----:|-----:|-----:|-----:|-----:|-----:|-----:|-----:|-----:|-----:|-----:|-----:|-----:|-----:|------:|------:|------:|------:|------:|\n",
      "|        0.01 |    0 |    0 |    0 |    0 |    0 |    0 |    0 |    0 |    0 |    0 |    0 |    1 |    0 |    0 |    0 |    0 |    0 |     0 |     0 |     0 |     0 |     0 |\n",
      "|        0.03 |    3 |    3 |    3 |    3 |    3 |    6 |    6 |    6 |    6 |    3 |    3 |    6 |    6 |    3 |    3 |    3 |    3 |     3 |     3 |     3 |     3 |     3 |\n",
      "|        0.05 |    1 |    1 |    0 |    0 |    0 |    3 |    3 |    3 |    3 |    6 |    3 |    6 |    6 |    6 |    3 |    3 |    3 |     3 |     3 |     3 |     3 |     3 |\n",
      "|        0.07 |    4 |    5 |    5 |    5 |    6 |    6 |    6 |    6 |    6 |    6 |    3 |    6 |    6 |    6 |    6 |    6 |    6 |     6 |     6 |     6 |     5 |     5 |\n",
      "|        0.09 |    2 |    2 |    0 |    2 |    1 |    1 |    6 |    6 |    6 |    6 |    3 |    6 |    6 |    6 |    6 |    6 |    6 |     6 |     6 |     6 |     6 |     6 |\n",
      "|        0.11 |    3 |    3 |    3 |    3 |    3 |    3 |    4 |    4 |    4 |    4 |    4 |    7 |    6 |    4 |    4 |    4 |    4 |     4 |     4 |     4 |     4 |     3 |\n",
      "|        0.13 |    2 |    3 |    3 |    2 |    3 |    3 |    3 |    3 |    3 |    3 |    3 |    6 |    6 |    5 |    2 |    5 |    2 |     4 |     1 |     4 |     1 |     1 |\n",
      "|        0.15 |    3 |    3 |    2 |    3 |    3 |    3 |    3 |    3 |    3 |    3 |    3 |    6 |    6 |    3 |    6 |    6 |    6 |     6 |     6 |     6 |     6 |     6 |\n",
      "|        0.17 |    0 |    0 |    0 |    0 |    3 |    3 |    3 |    6 |    3 |    6 |    3 |    6 |    3 |    6 |    3 |    3 |    3 |     3 |     0 |     0 |     0 |     0 |\n",
      "|        0.19 |    3 |    3 |    3 |    3 |    6 |    6 |    3 |    6 |    3 |    6 |    3 |    6 |    6 |    6 |    6 |    6 |    6 |     6 |     6 |     5 |     5 |     4 |\n",
      "|        0.21 |    0 |    0 |    0 |    0 |    3 |    0 |    0 |    0 |    0 |    0 |    0 |    0 |    0 |    0 |    0 |    0 |    0 |     0 |     0 |     0 |     0 |     0 |\n",
      "|        0.23 |    0 |    0 |    0 |    0 |    3 |    0 |    0 |    0 |    0 |    0 |    0 |    0 |    0 |    0 |    0 |    0 |    0 |     0 |     0 |     0 |     0 |     0 |\n",
      "|        0.25 |    3 |    3 |    3 |    3 |    3 |    2 |    3 |    3 |    0 |    3 |    0 |    3 |    0 |    0 |    0 |    3 |    0 |     0 |     0 |     3 |     0 |     0 |\n"
     ]
    }
   ],
   "source": [
    "processed_parameter_values_analyzer.dataframe = processed_parameter_values_analyzer.dataframe[\n",
    "    ((processed_parameter_values_analyzer.dataframe[\"Number_of_Chebyshev_terms\"] >= 15)\n",
    "    & (processed_parameter_values_analyzer.dataframe[\"Number_of_Chebyshev_terms\"] <= 120)\n",
    "    & (processed_parameter_values_analyzer.dataframe[\"Kernel_operator_type\"] == 'Brillouin'))\n",
    "    | ((processed_parameter_values_analyzer.dataframe[\"Number_of_Chebyshev_terms\"] >= 90)\n",
    "    & (processed_parameter_values_analyzer.dataframe[\"Number_of_Chebyshev_terms\"] <= 300)\n",
    "    & (processed_parameter_values_analyzer.dataframe[\"Kernel_operator_type\"] == 'Wilson'))\n",
    "]\n",
    "\n",
    "# Store names and values of tunable parameters with unique values\n",
    "single_valued_fields_dictionary = copy.deepcopy(\n",
    "    processed_parameter_values_analyzer.single_valued_fields_dictionary\n",
    ")\n",
    "\n",
    "# CONSTRUCT LIST OF RELEVANT MULTIVALUED TUNABLE PARAMETERS FOR GROUPING\n",
    "\n",
    "# Groupings will be based on tunable parameters with more than one\n",
    "# unique values (multivalued)\n",
    "tunable_multivalued_parameter_names_list = copy.deepcopy(\n",
    "    processed_parameter_values_analyzer.list_of_tunable_multivalued_parameter_names\n",
    ")\n",
    "\n",
    "# Remove specific parameters from the list\n",
    "parameters_to_remove = [\"MPI_geometry\", \"Configuration_label\", \"Number_of_Chebyshev_terms\", \"Bare_mass\"]\n",
    "tunable_multivalued_parameter_names_list = [\n",
    "    parameter_name\n",
    "    for parameter_name in tunable_multivalued_parameter_names_list\n",
    "    if parameter_name not in parameters_to_remove\n",
    "]\n",
    "\n",
    "# LOOP OVER ALL RELEVANT TUNABLE PARAMETERS GROUPINGS\n",
    "\n",
    "# Include counting the iterations for later use\n",
    "for combination_of_values, dataframe_group in processed_parameter_values_analyzer.dataframe.groupby(tunable_multivalued_parameter_names_list, observed=True):\n",
    "    # Store specific tunable multivalued parameter names and values in a\n",
    "    # dedicated metadata dictionary for later use\n",
    "    if not isinstance(combination_of_values, tuple):\n",
    "        combination_of_values = [combination_of_values]\n",
    "    metadata_dictionary = dict(\n",
    "        zip(tunable_multivalued_parameter_names_list, combination_of_values)\n",
    "    )\n",
    "\n",
    "    print(metadata_dictionary)\n",
    "\n",
    "    table = pd.pivot_table(dataframe_group, \n",
    "                       values=\"Configuration_label\", \n",
    "                       index=\"Bare_mass\", \n",
    "                       columns=\"Number_of_Chebyshev_terms\", \n",
    "                    #    aggfunc=lambda x: list(x), \n",
    "                    #    fill_value=\"\")\n",
    "                        aggfunc=\"count\",\n",
    "                        fill_value=0)\n",
    "\n",
    "    print(tabulate(table, headers=\"keys\", tablefmt=\"pipe\"))\n",
    "\n",
    "processed_parameter_values_analyzer.restore_entire_dataframe()"
   ]
  }
 ],
 "metadata": {
  "kernelspec": {
   "display_name": "KLenv",
   "language": "python",
   "name": "python3"
  },
  "language_info": {
   "codemirror_mode": {
    "name": "ipython",
    "version": 3
   },
   "file_extension": ".py",
   "mimetype": "text/x-python",
   "name": "python",
   "nbconvert_exporter": "python",
   "pygments_lexer": "ipython3",
   "version": "3.10.15"
  }
 },
 "nbformat": 4,
 "nbformat_minor": 2
}
