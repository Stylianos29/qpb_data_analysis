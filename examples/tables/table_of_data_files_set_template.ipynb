{
 "cells": [
  {
   "cell_type": "markdown",
   "metadata": {},
   "source": [
    "# Data files set name"
   ]
  },
  {
   "cell_type": "markdown",
   "metadata": {},
   "source": [
    "### Dependencies"
   ]
  },
  {
   "cell_type": "code",
   "execution_count": 1,
   "metadata": {},
   "outputs": [],
   "source": [
    "import os\n",
    "\n",
    "from IPython.display import Markdown, display\n",
    "\n",
    "from library import ROOT, is_valid_file, is_valid_directory, load_csv, TableGenerator"
   ]
  },
  {
   "cell_type": "markdown",
   "metadata": {},
   "source": [
    "### Set constants"
   ]
  },
  {
   "cell_type": "code",
   "execution_count": 2,
   "metadata": {},
   "outputs": [],
   "source": [
    "PROCESSED_PARAMETER_VALUES_CSV_FILE_FULL_PATH = os.path.join(\n",
    "    ROOT,\n",
    "    \"data_files/processed/invert/Chebyshev_several_config_varying_N/processed_parameter_values.csv\",\n",
    ")\n",
    "if not is_valid_file(PROCESSED_PARAMETER_VALUES_CSV_FILE_FULL_PATH):\n",
    "    raise ValueError(\"Invalid .csv file path.\")\n",
    "\n",
    "DATA_FILES_SET_TABLES_DIRECTORY = os.path.join(\n",
    "    ROOT,\n",
    "    \"output/tables/invert/Chebyshev_several_config_varying_N\",\n",
    ")\n",
    "if not is_valid_directory(DATA_FILES_SET_TABLES_DIRECTORY):\n",
    "    raise ValueError(\"Invalid tables base directory path.\")"
   ]
  },
  {
   "cell_type": "markdown",
   "metadata": {},
   "source": [
    "### Import .csv file and initialize objects"
   ]
  },
  {
   "cell_type": "code",
   "execution_count": 3,
   "metadata": {},
   "outputs": [],
   "source": [
    "processed_parameter_values_dataframe = load_csv(\n",
    "    PROCESSED_PARAMETER_VALUES_CSV_FILE_FULL_PATH\n",
    ")\n",
    "table_generator = TableGenerator(\n",
    "    processed_parameter_values_dataframe, DATA_FILES_SET_TABLES_DIRECTORY\n",
    ")"
   ]
  },
  {
   "cell_type": "markdown",
   "metadata": {},
   "source": [
    "## Tables"
   ]
  },
  {
   "cell_type": "markdown",
   "metadata": {},
   "source": [
    "### Column uniqueness report"
   ]
  },
  {
   "cell_type": "code",
   "execution_count": 8,
   "metadata": {},
   "outputs": [
    {
     "name": "stdout",
     "output_type": "stream",
     "text": [
      "Single-valued fields: unique value   | Multivalued fields: No of unique values\n",
      "---------------------------------------------------------------------------\n",
      "                            TUNABLE PARAMETERS\n",
      "APE_alpha: 0.72                      | Bare_mass: 15\n",
      "APE_iterations: 1                    | Configuration_label: 111\n",
      "CG_epsilon: 1e-06                    | Kernel_operator_type: 2\n",
      "Clover_coefficient: 0                | MPI_geometry: 5\n",
      "Delta_Max: 1.10                      | Number_of_Chebyshev_terms: 52\n",
      "Delta_Min: 0.50                      | \n",
      "Lanczos_epsilon: 1e-10               | \n",
      "Main_program_type: invert            | \n",
      "Maximum_Lanczos_iterations: 10000    | \n",
      "Number_of_spinors: 12                | \n",
      "Number_of_vectors: 1                 | \n",
      "Overlap_operator_method: Chebyshev   | \n",
      "QCD_beta_value: 6.20                 | \n",
      "Rho_value: 1                         | \n",
      "\n",
      "                             OUTPUT QUANTITIES\n",
      "Spatial_lattice_size: 24             | Adjusted_average_core_hours_per_spinor: 4076\n",
      "Temporal_lattice_size: 48            | Average_core_hours_per_spinor: 4076\n",
      "                                     | Average_number_of_CG_iterations_per_spinor: 1266\n",
      "                                     | Average_number_of_MV_multiplications_per_spinor: 4062\n",
      "                                     | Average_wall_clock_time_per_spinor: 4076\n",
      "                                     | Condition_number: 258\n",
      "                                     | Filename: 4077\n",
      "                                     | Maximum_eigenvalue_squared: 257\n",
      "                                     | Minimum_eigenvalue_squared: 253\n",
      "                                     | Number_of_cores: 5\n",
      "                                     | Plaquette: 111\n",
      "                                     | Threads_per_process: 2\n",
      "                                     | Total_calculation_time: 4077\n",
      "                                     | Total_number_of_Lanczos_iterations: 165\n",
      "                                     | Total_overhead_time: 4076\n"
     ]
    }
   ],
   "source": [
    "column_uniqueness_report = table_generator.generate_column_uniqueness_report(\n",
    "    max_width=75, separate_by_type=True\n",
    ")\n",
    "print(column_uniqueness_report)"
   ]
  },
  {
   "cell_type": "markdown",
   "metadata": {},
   "source": [
    "### Bare mass Vs Number of Chebyshev terms pivot"
   ]
  },
  {
   "cell_type": "code",
   "execution_count": 5,
   "metadata": {},
   "outputs": [
    {
     "data": {
      "text/markdown": [
       "#### Group 1:\n",
       "{'Kernel_operator_type': 'Wilson'}\n",
       "\n",
       "Bare_mass \\ Number_of_Chebyshev_terms | 90 | 100 | 110 | 120 | 130 | 140 | 150 | 160 | 170 | 180 | 190 | 200 | 210 | 220 | 230 | 240 | 250 | 260 | 270 | 280 | 290 | 300\n",
       ":------------------------------------ | :- | :-- | :-- | :-- | :-- | :-- | :-- | :-- | :-- | :-- | :-- | :-- | :-- | :-- | :-- | :-- | :-- | :-- | :-- | :-- | :-- | :--\n",
       "0.01 | 10 | 9 | 10 | 10 | 10 | 10 | 10 | 10 | 10 | 10 | 10 | 10 | 10 | 10 | 10 | 10 | 10 | 10 | 10 | 9 | 9 | 9\n",
       "0.02 | 10 | 10 | 10 | 10 | 10 | 9 | 9 | 9 | 9 | 9 | 9 | 10 | 10 | 10 | 10 | 10 | 10 | 10 | 10 | 0 | 0 | 0\n",
       "0.03 | 10 | 10 | 10 | 10 | 10 | 10 | 10 | 10 | 10 | 10 | 10 | 10 | 10 | 10 | 10 | 10 | 10 | 10 | 10 | 10 | 9 | 9\n",
       "0.04 | 10 | 10 | 10 | 10 | 10 | 9 | 9 | 10 | 10 | 10 | 10 | 10 | 10 | 10 | 9 | 10 | 10 | 10 | 10 | 10 | 6 | 7\n",
       "0.05 | 10 | 10 | 10 | 10 | 10 | 10 | 10 | 10 | 10 | 10 | 10 | 10 | 10 | 10 | 10 | 10 | 10 | 9 | 9 | 9 | 8 | 8\n",
       "0.07 | 10 | 10 | 10 | 10 | 9 | 10 | 10 | 10 | 10 | 10 | 10 | 10 | 10 | 10 | 10 | 10 | 10 | 10 | 10 | 10 | 9 | 9\n",
       "0.09 | 10 | 10 | 10 | 10 | 10 | 10 | 10 | 10 | 10 | 10 | 10 | 10 | 10 | 10 | 10 | 10 | 10 | 10 | 8 | 8 | 8 | 8\n",
       "0.11 | 10 | 10 | 10 | 9 | 10 | 10 | 10 | 10 | 10 | 10 | 10 | 10 | 10 | 10 | 9 | 9 | 9 | 9 | 9 | 9 | 8 | 8\n",
       "0.13 | 10 | 10 | 10 | 10 | 10 | 10 | 10 | 10 | 10 | 10 | 10 | 10 | 10 | 10 | 10 | 10 | 10 | 10 | 10 | 10 | 10 | 10\n",
       "\n",
       "---\n",
       "\n",
       "#### Group 2:\n",
       "{'Kernel_operator_type': 'Brillouin'}\n",
       "\n",
       "Bare_mass \\ Number_of_Chebyshev_terms | 50 | 55 | 60 | 65 | 70 | 75 | 80 | 85 | 90 | 95 | 100 | 105 | 110 | 115 | 120\n",
       ":------------------------------------ | :- | :- | :- | :- | :- | :- | :- | :- | :- | :- | :-- | :-- | :-- | :-- | :--\n",
       "0.01 | 0 | 0 | 0 | 0 | 1 | 0 | 0 | 0 | 0 | 0 | 0 | 0 | 0 | 0 | 0\n",
       "0.03 | 10 | 9 | 10 | 10 | 10 | 8 | 10 | 10 | 10 | 10 | 10 | 10 | 10 | 10 | 9\n",
       "0.04 | 10 | 10 | 10 | 10 | 10 | 10 | 10 | 10 | 10 | 10 | 10 | 10 | 10 | 10 | 10\n",
       "0.05 | 10 | 10 | 10 | 10 | 10 | 10 | 10 | 10 | 10 | 10 | 10 | 10 | 10 | 10 | 10\n",
       "0.07 | 10 | 10 | 10 | 10 | 10 | 10 | 10 | 10 | 10 | 10 | 10 | 10 | 10 | 10 | 10\n",
       "0.09 | 10 | 10 | 10 | 10 | 10 | 10 | 10 | 10 | 10 | 10 | 10 | 10 | 10 | 10 | 10\n",
       "0.11 | 10 | 10 | 10 | 10 | 10 | 10 | 10 | 10 | 10 | 10 | 10 | 10 | 10 | 10 | 10\n",
       "0.13 | 10 | 10 | 10 | 10 | 10 | 10 | 10 | 10 | 10 | 10 | 10 | 10 | 10 | 9 | 10"
      ],
      "text/plain": [
       "<IPython.core.display.Markdown object>"
      ]
     },
     "metadata": {},
     "output_type": "display_data"
    }
   ],
   "source": [
    "def custom_complex_filter(df):\n",
    "    return (df[\"Bare_mass\"] <= 0.13) & (\n",
    "        (\n",
    "            (df[\"Number_of_Chebyshev_terms\"] >= 50)\n",
    "            & (df[\"Number_of_Chebyshev_terms\"] <= 120)\n",
    "            & (df[\"Kernel_operator_type\"] == \"Brillouin\")\n",
    "        )\n",
    "        | (\n",
    "            (df[\"Number_of_Chebyshev_terms\"] >= 90)\n",
    "            & (df[\"Kernel_operator_type\"] == \"Wilson\")\n",
    "        )\n",
    "    )\n",
    "\n",
    "\n",
    "table_generator.restrict_dataframe(filter_func=custom_complex_filter)\n",
    "\n",
    "summary_table = table_generator.generate_grouped_summary_tables(\n",
    "    value_variable=\"Configuration_label\",\n",
    "    row_variable=\"Bare_mass\",\n",
    "    column_variable=\"Number_of_Chebyshev_terms\",\n",
    "    exclude_from_grouping=[\"MPI_geometry\"],\n",
    ")\n",
    "\n",
    "display(Markdown(summary_table))\n",
    "table_generator.restore_original_dataframe()"
   ]
  },
  {
   "cell_type": "markdown",
   "metadata": {},
   "source": [
    "### Ratio pivot of Condition number: Wilson/Brillouin"
   ]
  },
  {
   "cell_type": "code",
   "execution_count": 6,
   "metadata": {},
   "outputs": [
    {
     "data": {
      "text/markdown": [
       "#### Group 1:\n",
       "{}\n",
       "\n",
       "Configuration_label | Wilson | Brillouin | Wilson / Brillouin\n",
       ":------------------ | :----- | :-------- | :-----------------\n",
       "0000200 | 4027.91 | 587.369 | 6.85754\n",
       "0000600 | 1.66583e+06 | 5594.13 | 297.782\n",
       "0001400 | NaN | 124.977 | NaN\n",
       "0001800 | 32614.9 | 33373.8 | 0.977261\n",
       "0002200 | 3309.86 | 193.068 | 17.1435\n",
       "0002600 | NaN | 1337.72 | NaN\n",
       "0003000 | 1843.61 | NaN | NaN\n",
       "0003800 | NaN | 5616.48 | NaN\n",
       "0004400 | 155265 | NaN | NaN\n",
       "0005000 | 2195.33 | 214.74 | 10.2232\n",
       "0005200 | 13847.1 | NaN | NaN\n",
       "0005800 | 6165.85 | 499.979 | 12.3322\n",
       "0006200 | 850733 | 10896.8 | 78.0716\n",
       "0006600 | 8804.94 | 1433.28 | 6.14322\n",
       "0007000 | NaN | 174.309 | NaN\n",
       "0007400 | 19836.5 | 2644.54 | 7.50093\n",
       "0008200 | NaN | 692.048 | NaN\n",
       "0008800 | 2748.75 | 83.0807 | 33.0854\n",
       "0009400 | 63501.7 | 2457.47 | 25.8403\n",
       "0009600 | 4233.16 | 333.435 | 12.6956\n",
       "0010600 | 22945.4 | 1415.22 | 16.2133\n",
       "0011000 | 4754.19 | 297.276 | 15.9925\n",
       "0011400 | NaN | 26870.6 | NaN\n",
       "0011800 | 83998.3 | 1450.8 | 57.8978\n",
       "0012200 | 1900.63 | NaN | NaN\n",
       "0012600 | NaN | 276.339 | NaN\n",
       "0013000 | 34513.2 | NaN | NaN\n",
       "0013800 | NaN | 1891.33 | NaN\n",
       "0014400 | 8179.09 | NaN | NaN\n",
       "0015000 | 2695.66 | 232.791 | 11.5797\n",
       "0015200 | 4501.53 | NaN | NaN\n",
       "0015400 | 11295 | 683.873 | 16.5162\n",
       "0015800 | 11483.6 | 1161.45 | 9.88729\n",
       "0016200 | 6821.5 | 627.073 | 10.8783\n",
       "0016600 | 2020.4 | 134.811 | 14.9869\n",
       "0017400 | 67808.8 | 351664 | 0.192823\n",
       "0018200 | NaN | 1105.58 | NaN\n",
       "0018800 | 29606.8 | 1991.2 | 14.8688\n",
       "0019400 | 1289.24 | 86.0137 | 14.9888\n",
       "0019600 | 11783.3 | 353.03 | 33.3776\n",
       "0019800 | 6882.8 | 327.025 | 21.0467\n",
       "0020600 | 5573.8 | 668.401 | 8.33901\n",
       "0021000 | 2436.34 | 193.173 | 12.6122\n",
       "0021800 | 1535.77 | 68.1745 | 22.5271\n",
       "0022200 | 1722.71 | NaN | NaN\n",
       "0022600 | NaN | 69.0994 | NaN\n",
       "0023000 | 5056.45 | NaN | NaN\n",
       "0023800 | NaN | 3953.96 | NaN\n",
       "0024200 | 338065 | 1129.15 | 299.398\n",
       "0024400 | 16456.9 | NaN | NaN\n",
       "0025000 | 2629.65 | 219.04 | 12.0053\n",
       "0025200 | 1.51677e+06 | NaN | NaN\n",
       "0025400 | 6503.39 | 825.164 | 7.88134\n",
       "0026200 | 14270.2 | 265.754 | 53.6971\n",
       "0026600 | 76765.8 | 10575.2 | 7.25903\n",
       "0027400 | 25457 | 24039.6 | 1.05896\n",
       "0028200 | NaN | 143.87 | NaN\n",
       "0028600 | 7839.94 | 1249.01 | 6.2769\n",
       "0028800 | 99886.5 | 2357.77 | 42.3649\n",
       "0029400 | 11033.3 | 574.878 | 19.1924\n",
       "0029600 | 12404.9 | 691.177 | 17.9475\n",
       "0029800 | 2877.59 | 160.47 | 17.9323\n",
       "0030600 | 1727.69 | 68.7616 | 25.1258\n",
       "0031000 | 5304.82 | 296.711 | 17.8788\n",
       "0031800 | 112829 | 1694.62 | 66.5806\n",
       "0032200 | 6576.51 | NaN | NaN\n",
       "0032600 | NaN | 363.889 | NaN\n",
       "0033000 | 62138.2 | 3619.97 | 17.1654\n",
       "0034200 | 14764.3 | 5274.88 | 2.79898\n",
       "0034400 | 41062.4 | NaN | NaN\n",
       "0035000 | 68004.4 | 1.82657e+07 | 0.00372306\n",
       "0035200 | 34526.6 | NaN | NaN\n",
       "0035400 | 8.33403e+07 | 7801.87 | 10682.1\n",
       "0036200 | 3173.36 | 141.547 | 22.4192\n",
       "0036600 | 14267.7 | 4149.58 | 3.43834\n",
       "0037400 | 19576.6 | 296.281 | 66.0747\n",
       "0038600 | 1721.46 | 71.7508 | 23.9922\n",
       "0038800 | 3.53336e+07 | 13524.8 | 2612.5\n",
       "0039400 | 2360.77 | 95.1667 | 24.8067\n",
       "0039600 | 5405.36 | 202.929 | 26.6367\n",
       "0039800 | 3241.86 | 95.5609 | 33.9246\n",
       "0040600 | 1.01364e+06 | 6831.11 | 148.386\n",
       "0041000 | 31239.6 | 4780.24 | 6.53515\n",
       "0041800 | 7376.16 | 256.922 | 28.7097\n",
       "0042200 | 9437 | NaN | NaN\n",
       "0043000 | NaN | 4595.45 | NaN\n",
       "0044200 | 18560.8 | 5146.91 | 3.60621\n",
       "0044400 | 7471.42 | NaN | NaN\n",
       "0045000 | 16171.7 | 5744.34 | 2.81524\n",
       "0045400 | 1.72599e+07 | 361672 | 47.7225\n",
       "0046200 | 126486 | 902.255 | 140.188\n",
       "0046600 | 2867.42 | 215.604 | 13.2995\n",
       "0047400 | NaN | 1447.07 | NaN\n",
       "0048600 | 35144.8 | 924.645 | 38.0089\n",
       "0048800 | 1407.43 | 78.6955 | 17.8846\n",
       "0049400 | 24291.9 | 21927.4 | 1.10783\n",
       "0049800 | 6695.5 | 303.765 | 22.0417\n",
       "0050600 | 5389.34 | 602.473 | 8.94536\n",
       "0051000 | 7621.78 | 792.501 | 9.61738\n",
       "0051800 | NaN | 148.501 | NaN\n",
       "0052200 | 6931.82 | NaN | NaN\n",
       "0053000 | NaN | 117.531 | NaN\n",
       "0054200 | 5083.12 | 237.384 | 21.413\n",
       "0054400 | 1466.72 | NaN | NaN\n",
       "0055000 | 2540.25 | 230.387 | 11.026\n",
       "0055400 | 1959.56 | 101.392 | 19.3266\n",
       "0056200 | NaN | 3015.59 | NaN\n",
       "0056600 | 46701.3 | 3413.34 | 13.682\n",
       "0057400 | NaN | 24819.5 | NaN\n",
       "0058600 | 10002.8 | 640.949 | 15.6062\n",
       "0058800 | 43677.8 | 29824.7 | 1.46448"
      ],
      "text/plain": [
       "<IPython.core.display.Markdown object>"
      ]
     },
     "metadata": {},
     "output_type": "display_data"
    }
   ],
   "source": [
    "comparison_table = table_generator.generate_comparison_table_by_pivot(\n",
    "    value_variable=\"Condition_number\",\n",
    "    pivot_variable=\"Kernel_operator_type\",\n",
    "    id_variable=\"Configuration_label\",\n",
    "    comparison=\"ratio\",\n",
    "    exclude_from_grouping=[\"MPI_geometry\", \"Number_of_Chebyshev_terms\", \"Bare_mass\"],\n",
    ")\n",
    "\n",
    "display(Markdown(comparison_table))"
   ]
  }
 ],
 "metadata": {
  "kernelspec": {
   "display_name": "KLenv",
   "language": "python",
   "name": "python3"
  },
  "language_info": {
   "codemirror_mode": {
    "name": "ipython",
    "version": 3
   },
   "file_extension": ".py",
   "mimetype": "text/x-python",
   "name": "python",
   "nbconvert_exporter": "python",
   "pygments_lexer": "ipython3",
   "version": "3.10.15"
  }
 },
 "nbformat": 4,
 "nbformat_minor": 2
}
