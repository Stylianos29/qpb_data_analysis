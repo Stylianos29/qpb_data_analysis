{
 "cells": [
  {
   "cell_type": "markdown",
   "id": "b9fd2963",
   "metadata": {},
   "source": [
    "### Test Summary\n",
    "\n",
    "This notebook demonstrates comprehensive testing of the CSV File Inspector script with various options:\n",
    "\n",
    "1. Basic validation (non-existent file test)\n",
    "2. Default information output\n",
    "3. Column uniqueness report\n",
    "4. Field listing\n",
    "5. Sample rows display\n",
    "6. Statistical analysis of fields\n",
    "7. Unique values for specific columns\n",
    "8. Output format tests (txt, markdown, LaTeX)\n",
    "9. Column type separation\n",
    "10. Grouped summary tables with different aggregation methods\n",
    "11. Combined options for comprehensive analysis\n",
    "\n",
    "The tests verify that all major functionalities of the script work correctly and produce the expected output formats."
   ]
  },
  {
   "cell_type": "markdown",
   "id": "5b163d79",
   "metadata": {},
   "source": [
    "### Dependencies"
   ]
  },
  {
   "cell_type": "code",
   "execution_count": 1,
   "id": "51920299",
   "metadata": {},
   "outputs": [],
   "source": [
    "import subprocess\n",
    "import os\n",
    "\n",
    "from library import ROOT, is_valid_file, is_valid_directory"
   ]
  },
  {
   "cell_type": "markdown",
   "id": "35bccf4b",
   "metadata": {},
   "source": [
    "### Set constants"
   ]
  },
  {
   "cell_type": "code",
   "execution_count": 2,
   "id": "40b0f5e8",
   "metadata": {},
   "outputs": [],
   "source": [
    "SCRIPT_PATH = os.path.join(ROOT, \"core/src/utils/inspect_csv_file.py\")\n",
    "if not is_valid_file(SCRIPT_PATH):\n",
    "    raise ValueError(\"Invalid Python script path.\")\n",
    "\n",
    "MOCK_CSV_PATH = os.path.join(\n",
    "    ROOT,\n",
    "    \"core/tests/unit_tests/mock_data/valid_csv_files\",\n",
    "    \"KL_several_m_varying_EpsCG_and_EpsMSCG_processed_parameter_values.csv\",\n",
    ")\n",
    "if not is_valid_file(MOCK_CSV_PATH):\n",
    "    raise ValueError(\"Invalid mock .csv script path.\")\n",
    "\n",
    "# Create output directory if it doesn't exist\n",
    "OUTPUT_DIRECTORY = os.path.join(\n",
    "    ROOT,\n",
    "    \"core/tests/integration_tests/test_inspect_csv_file_output\",\n",
    ")\n",
    "if not is_valid_directory(OUTPUT_DIRECTORY):\n",
    "    raise ValueError(\"Invalid mock .csv script path.\")"
   ]
  },
  {
   "cell_type": "markdown",
   "id": "eb27c901",
   "metadata": {},
   "source": [
    "### Helper function to run commands"
   ]
  },
  {
   "cell_type": "code",
   "execution_count": 3,
   "id": "helper-function",
   "metadata": {},
   "outputs": [],
   "source": [
    "def run_command(cmd, description):\n",
    "    \"\"\"Helper function to run a command and display output with a description\"\"\"\n",
    "    print(f\"\\n{'='*80}\")\n",
    "    print(f\"TESTING: {description}\")\n",
    "    print(f\"COMMAND: {' '.join(cmd)}\")\n",
    "    print(f\"{'='*80}\\n\")\n",
    "\n",
    "    # Run the command and capture real-time output\n",
    "    process = subprocess.Popen(\n",
    "        cmd, stdout=subprocess.PIPE, stderr=subprocess.PIPE, universal_newlines=True\n",
    "    )\n",
    "\n",
    "    # Print output in real-time\n",
    "    for line in process.stdout:\n",
    "        print(line, end=\"\")\n",
    "\n",
    "    # Print any errors\n",
    "    stdout, stderr = process.communicate()\n",
    "    if stderr:\n",
    "        print(\"\\nERRORS:\")\n",
    "        print(stderr)\n",
    "\n",
    "    # Check exit code\n",
    "    print()\n",
    "    print(\"-\" * 50)\n",
    "    if process.returncode==0:\n",
    "        print(f\"✅ Test '{description}' passed!\")\n",
    "    else:\n",
    "        print(f\"❌ Test '{description}' failed!\")\n",
    "    print(\"-\" * 50)"
   ]
  },
  {
   "cell_type": "markdown",
   "id": "eb27c901",
   "metadata": {},
   "source": [
    "### Test non-existent .csv file"
   ]
  },
  {
   "cell_type": "code",
   "execution_count": 4,
   "id": "c5e68ce9",
   "metadata": {},
   "outputs": [
    {
     "name": "stdout",
     "output_type": "stream",
     "text": [
      "Return code: 2\n",
      "\n",
      "STDERR:\n",
      "Usage: inspect_csv_file.py [OPTIONS]\n",
      "Try 'inspect_csv_file.py --help' for help.\n",
      "\n",
      "Error: Invalid value for '-csv' / '--csv_file_path': File '/path/to/nonexistent/file.csv' does not exist.\n",
      "\n",
      "\n",
      "STDOUT:\n",
      "\n",
      "✅ Test passed: Script correctly detected non-existent file\n"
     ]
    }
   ],
   "source": [
    "# Define paths\n",
    "nonexistent_csv_path = \"/path/to/nonexistent/file.csv\"  # This path doesn't exist\n",
    "\n",
    "# Run the script with the non-existent file\n",
    "cmd = [\"python\", SCRIPT_PATH, \"-csv\", nonexistent_csv_path]\n",
    "\n",
    "# Execute the command\n",
    "result = subprocess.run(cmd, capture_output=True, text=True)\n",
    "\n",
    "# Check if the error was properly returned\n",
    "print(f\"Return code: {result.returncode}\")\n",
    "print(\"\\nSTDERR:\")\n",
    "print(result.stderr)\n",
    "print(\"\\nSTDOUT:\")\n",
    "print(result.stdout)\n",
    "\n",
    "# Verify the script exited with a non-zero status for the error case\n",
    "assert (\n",
    "    result.returncode != 0\n",
    "), \"Script should fail with non-zero exit code for non-existent file\"\n",
    "print(\"✅ Test passed: Script correctly detected non-existent file\")"
   ]
  },
  {
   "cell_type": "markdown",
   "id": "ec8fd2ed",
   "metadata": {},
   "source": [
    "### Test default information output:"
   ]
  },
  {
   "cell_type": "code",
   "execution_count": 5,
   "id": "00bb9e47",
   "metadata": {},
   "outputs": [
    {
     "name": "stdout",
     "output_type": "stream",
     "text": [
      "\n",
      "================================================================================\n",
      "TESTING: Display default information output\n",
      "COMMAND: python /nvme/h/cy22sg1/qpb_data_analysis/core/src/utils/inspect_csv_file.py -csv /nvme/h/cy22sg1/qpb_data_analysis/core/tests/unit_tests/mock_data/valid_csv_files/KL_several_m_varying_EpsCG_and_EpsMSCG_processed_parameter_values.csv -out /nvme/h/cy22sg1/qpb_data_analysis/core/tests/integration_tests/test_inspect_csv_file_output -v --output_filename test_default_information_output\n",
      "================================================================================\n",
      "\n",
      "\n",
      "File Details\n",
      "============\n",
      "Successfully loaded CSV file: 'KL_several_m_varying_EpsCG_and_EpsMSCG_processed_parameter_values.csv' \n",
      "from directory: '/nvme/h/cy22sg1/qpb_data_analysis/core/tests/unit_tests/mock_data/valid_csv_files'.\n",
      "\n",
      "Basic Information\n",
      "=================\n",
      "DataFrame Shape: 48 rows × 29 columns\n",
      "Columns with empty values:\n",
      "  Adjusted_average_core_hours_per_spinor: 39 rows with empty values\n",
      "Checking for unusual data types:\n",
      "  No unusual data types detected in the CSV file.\n",
      "   -- Summary of the 'KL_several_m_varying_EpsCG_and_EpsMSCG_processed_parameter_values.csv' CSV file generated.\n",
      "\n",
      "--------------------------------------------------\n",
      "✅ Test 'Display default information output' passed!\n",
      "--------------------------------------------------\n"
     ]
    }
   ],
   "source": [
    "cmd = [\n",
    "    \"python\",\n",
    "    SCRIPT_PATH,\n",
    "    \"-csv\",\n",
    "    MOCK_CSV_PATH,\n",
    "    \"-out\",\n",
    "    OUTPUT_DIRECTORY,\n",
    "    \"-v\",\n",
    "    \"--output_filename\",\n",
    "    \"test_default_information_output\",\n",
    "]\n",
    "\n",
    "run_command(cmd, \"Display default information output\")"
   ]
  },
  {
   "cell_type": "markdown",
   "id": "36589b30",
   "metadata": {},
   "source": [
    "### Test uniqueness report"
   ]
  },
  {
   "cell_type": "code",
   "execution_count": 6,
   "id": "3f83cc9e",
   "metadata": {},
   "outputs": [
    {
     "name": "stdout",
     "output_type": "stream",
     "text": [
      "\n",
      "================================================================================\n",
      "TESTING: Show uniqueness report\n",
      "COMMAND: python /nvme/h/cy22sg1/qpb_data_analysis/core/src/utils/inspect_csv_file.py -csv /nvme/h/cy22sg1/qpb_data_analysis/core/tests/unit_tests/mock_data/valid_csv_files/KL_several_m_varying_EpsCG_and_EpsMSCG_processed_parameter_values.csv -out /nvme/h/cy22sg1/qpb_data_analysis/core/tests/integration_tests/test_inspect_csv_file_output --uniqueness_report --output_filename test_uniqueness_report\n",
      "================================================================================\n",
      "\n",
      "   -- Summary of the 'KL_several_m_varying_EpsCG_and_EpsMSCG_processed_parameter_values.csv' CSV file generated.\n",
      "\n",
      "--------------------------------------------------\n",
      "✅ Test 'Show uniqueness report' passed!\n",
      "--------------------------------------------------\n"
     ]
    }
   ],
   "source": [
    "cmd = [\n",
    "    \"python\",\n",
    "    SCRIPT_PATH,\n",
    "    \"-csv\",\n",
    "    MOCK_CSV_PATH,\n",
    "    \"-out\",\n",
    "    OUTPUT_DIRECTORY,\n",
    "    \"--uniqueness_report\",\n",
    "    \"--output_filename\",\n",
    "    \"test_uniqueness_report\",\n",
    "]\n",
    "\n",
    "run_command(cmd, \"Show uniqueness report\")"
   ]
  },
  {
   "cell_type": "markdown",
   "id": "e2d2021b",
   "metadata": {},
   "source": [
    "### Test list fields"
   ]
  },
  {
   "cell_type": "code",
   "execution_count": 7,
   "id": "7cbf92dd",
   "metadata": {},
   "outputs": [
    {
     "name": "stdout",
     "output_type": "stream",
     "text": [
      "\n",
      "================================================================================\n",
      "TESTING: Show list of fields\n",
      "COMMAND: python /nvme/h/cy22sg1/qpb_data_analysis/core/src/utils/inspect_csv_file.py -csv /nvme/h/cy22sg1/qpb_data_analysis/core/tests/unit_tests/mock_data/valid_csv_files/KL_several_m_varying_EpsCG_and_EpsMSCG_processed_parameter_values.csv -out /nvme/h/cy22sg1/qpb_data_analysis/core/tests/integration_tests/test_inspect_csv_file_output --list_fields --output_filename test_list_fields\n",
      "================================================================================\n",
      "\n",
      "   -- Summary of the 'KL_several_m_varying_EpsCG_and_EpsMSCG_processed_parameter_values.csv' CSV file generated.\n",
      "\n",
      "--------------------------------------------------\n",
      "✅ Test 'Show list of fields' passed!\n",
      "--------------------------------------------------\n"
     ]
    }
   ],
   "source": [
    "cmd = [\n",
    "    \"python\",\n",
    "    SCRIPT_PATH,\n",
    "    \"-csv\",\n",
    "    MOCK_CSV_PATH,\n",
    "    \"-out\",\n",
    "    OUTPUT_DIRECTORY,\n",
    "    \"--list_fields\",\n",
    "    \"--output_filename\",\n",
    "    \"test_list_fields\",\n",
    "]\n",
    "\n",
    "run_command(cmd, \"Show list of fields\")"
   ]
  },
  {
   "cell_type": "markdown",
   "id": "test-sample-rows",
   "metadata": {},
   "source": [
    "### Test sample rows"
   ]
  },
  {
   "cell_type": "code",
   "execution_count": 8,
   "id": "sample-rows",
   "metadata": {},
   "outputs": [
    {
     "name": "stdout",
     "output_type": "stream",
     "text": [
      "\n",
      "================================================================================\n",
      "TESTING: Sample rows display\n",
      "COMMAND: python /nvme/h/cy22sg1/qpb_data_analysis/core/src/utils/inspect_csv_file.py -csv /nvme/h/cy22sg1/qpb_data_analysis/core/tests/unit_tests/mock_data/valid_csv_files/KL_several_m_varying_EpsCG_and_EpsMSCG_processed_parameter_values.csv -out /nvme/h/cy22sg1/qpb_data_analysis/core/tests/integration_tests/test_inspect_csv_file_output --sample_rows 5 --output_filename test_sample_rows\n",
      "================================================================================\n",
      "\n",
      "   -- Summary of the 'KL_several_m_varying_EpsCG_and_EpsMSCG_processed_parameter_values.csv' CSV file generated.\n",
      "\n",
      "--------------------------------------------------\n",
      "✅ Test 'Sample rows display' passed!\n",
      "--------------------------------------------------\n"
     ]
    }
   ],
   "source": [
    "cmd = [\n",
    "    \"python\",\n",
    "    SCRIPT_PATH,\n",
    "    \"-csv\",\n",
    "    MOCK_CSV_PATH,\n",
    "    \"-out\",\n",
    "    OUTPUT_DIRECTORY,\n",
    "    \"--sample_rows\",\n",
    "    \"5\",  # Show 5 sample rows\n",
    "    \"--output_filename\",\n",
    "    \"test_sample_rows\",\n",
    "]\n",
    "\n",
    "run_command(cmd, \"Sample rows display\")"
   ]
  },
  {
   "cell_type": "markdown",
   "id": "test-field-statistics",
   "metadata": {},
   "source": [
    "### Test field statistics"
   ]
  },
  {
   "cell_type": "code",
   "execution_count": 9,
   "id": "field-statistics",
   "metadata": {},
   "outputs": [
    {
     "name": "stdout",
     "output_type": "stream",
     "text": [
      "\n",
      "================================================================================\n",
      "TESTING: Field statistics\n",
      "COMMAND: python /nvme/h/cy22sg1/qpb_data_analysis/core/src/utils/inspect_csv_file.py -csv /nvme/h/cy22sg1/qpb_data_analysis/core/tests/unit_tests/mock_data/valid_csv_files/KL_several_m_varying_EpsCG_and_EpsMSCG_processed_parameter_values.csv -out /nvme/h/cy22sg1/qpb_data_analysis/core/tests/integration_tests/test_inspect_csv_file_output --field_statistics --output_filename test_field_statistics\n",
      "================================================================================\n",
      "\n",
      "   -- Summary of the 'KL_several_m_varying_EpsCG_and_EpsMSCG_processed_parameter_values.csv' CSV file generated.\n",
      "\n",
      "--------------------------------------------------\n",
      "✅ Test 'Field statistics' passed!\n",
      "--------------------------------------------------\n"
     ]
    }
   ],
   "source": [
    "cmd = [\n",
    "    \"python\",\n",
    "    SCRIPT_PATH,\n",
    "    \"-csv\",\n",
    "    MOCK_CSV_PATH,\n",
    "    \"-out\",\n",
    "    OUTPUT_DIRECTORY,\n",
    "    \"--field_statistics\",\n",
    "    \"--output_filename\",\n",
    "    \"test_field_statistics\",\n",
    "]\n",
    "\n",
    "run_command(cmd, \"Field statistics\")"
   ]
  },
  {
   "cell_type": "markdown",
   "id": "test-show-unique-values",
   "metadata": {},
   "source": [
    "### Test show unique values for a specific column"
   ]
  },
  {
   "cell_type": "code",
   "execution_count": 10,
   "id": "show-unique-values",
   "metadata": {},
   "outputs": [
    {
     "name": "stdout",
     "output_type": "stream",
     "text": [
      "Fetching column names to use for unique values test:\n",
      "\n",
      "Successfully loaded CSV file: 'KL_several_m_varying_EpsCG_and_EpsMSCG_processed_parameter_values.csv' \n",
      "from directory: '/nvme/h/cy22sg1/qpb_data_analysis/core/tests/unit_tests/mock_data/valid_csv_files'.\n",
      "DataFrame Shape: 48 rows × 29 columns\n",
      "Columns with empty values:\n",
      "  Adjusted_average_core_hours_per_spinor: 39 rows with empty values\n",
      "  No unusual data types detected in the CSV file.\n",
      "\n",
      "Columns\n",
      "=======\n",
      "Tunable Parameters:\n",
      "  APE_alpha\n",
      "  APE_iterations\n",
      "  Bare_mass\n",
      "  CG_epsilon\n",
      "  Clover_coefficient\n",
      "  Configuration_label\n",
      "  KL_diagonal_order\n",
      "  KL_scaling_factor\n",
      "  Kernel_operator_type\n",
      "  MPI_geometry\n",
      "  MSCG_epsilon\n",
      "  Main_program_type\n",
      "  Number_of_spinors\n",
      "  Number_of_vectors\n",
      "  Overlap_operator_method\n",
      "  QCD_beta_value\n",
      "  Rho_value\n",
      "  Threads_per_process\n",
      "Output Quantities:\n",
      "  Adjusted_average_core_hours_per_spinor\n",
      "  Average_core_hours_per_spinor\n",
      "  Average_number_of_MSCG_iterations_per_spinor\n",
      "  Average_number_of_MV_multiplications_per_spinor\n",
      "  Average_wall_clock_time_per_spinor\n",
      "  Filename\n",
      "  Number_of_cores\n",
      "  Plaquette\n",
      "  Spatial_lattice_size\n",
      "  Temporal_lattice_size\n",
      "  Total_calculation_time\n",
      "   -- Summary of the 'KL_several_m_varying_EpsCG_and_EpsMSCG_processed_parameter_values.csv' CSV file generated.\n",
      "\n",
      "\n",
      "================================================================================\n",
      "TESTING: Show unique values for column 'm'\n",
      "COMMAND: python /nvme/h/cy22sg1/qpb_data_analysis/core/src/utils/inspect_csv_file.py -csv /nvme/h/cy22sg1/qpb_data_analysis/core/tests/unit_tests/mock_data/valid_csv_files/KL_several_m_varying_EpsCG_and_EpsMSCG_processed_parameter_values.csv -out /nvme/h/cy22sg1/qpb_data_analysis/core/tests/integration_tests/test_inspect_csv_file_output --show_unique_values m --output_filename test_unique_values\n",
      "================================================================================\n",
      "\n",
      "   -- Summary of the 'KL_several_m_varying_EpsCG_and_EpsMSCG_processed_parameter_values.csv' CSV file generated.\n",
      "\n",
      "--------------------------------------------------\n",
      "✅ Test 'Show unique values for column 'm'' passed!\n",
      "--------------------------------------------------\n"
     ]
    }
   ],
   "source": [
    "# First, let's list the fields to choose one for unique values test\n",
    "fields_cmd = [\n",
    "    \"python\",\n",
    "    SCRIPT_PATH,\n",
    "    \"-csv\",\n",
    "    MOCK_CSV_PATH,\n",
    "    \"--list_fields\",\n",
    "]\n",
    "\n",
    "print(\"Fetching column names to use for unique values test:\\n\")\n",
    "fields_process = subprocess.run(fields_cmd, capture_output=True, text=True)\n",
    "print(fields_process.stdout)\n",
    "\n",
    "# Let's assume we've identified a column name from the output above\n",
    "# Replace 'column_name' with an actual column name from your CSV\n",
    "column_name = \"m\"  # Update this with an actual column from your data\n",
    "\n",
    "cmd = [\n",
    "    \"python\",\n",
    "    SCRIPT_PATH,\n",
    "    \"-csv\",\n",
    "    MOCK_CSV_PATH,\n",
    "    \"-out\",\n",
    "    OUTPUT_DIRECTORY,\n",
    "    \"--show_unique_values\",\n",
    "    column_name,\n",
    "    \"--output_filename\",\n",
    "    \"test_unique_values\",\n",
    "]\n",
    "\n",
    "run_command(cmd, f\"Show unique values for column '{column_name}'\")"
   ]
  },
  {
   "cell_type": "markdown",
   "id": "test-output-format-md",
   "metadata": {},
   "source": [
    "### Test different output formats (Markdown)"
   ]
  },
  {
   "cell_type": "code",
   "execution_count": 11,
   "id": "output-format-md",
   "metadata": {},
   "outputs": [
    {
     "name": "stdout",
     "output_type": "stream",
     "text": [
      "\n",
      "================================================================================\n",
      "TESTING: Output in Markdown format\n",
      "COMMAND: python /nvme/h/cy22sg1/qpb_data_analysis/core/src/utils/inspect_csv_file.py -csv /nvme/h/cy22sg1/qpb_data_analysis/core/tests/unit_tests/mock_data/valid_csv_files/KL_several_m_varying_EpsCG_and_EpsMSCG_processed_parameter_values.csv -out /nvme/h/cy22sg1/qpb_data_analysis/core/tests/integration_tests/test_inspect_csv_file_output --output_format md --sample_rows 3 --field_statistics --output_filename test_markdown_output\n",
      "================================================================================\n",
      "\n",
      "   -- Summary of the 'KL_several_m_varying_EpsCG_and_EpsMSCG_processed_parameter_values.csv' CSV file generated.\n",
      "\n",
      "--------------------------------------------------\n",
      "✅ Test 'Output in Markdown format' passed!\n",
      "--------------------------------------------------\n",
      "\n",
      "Generated Markdown file contents:\n",
      "--------------------------------------------------\n",
      "## File Details\n",
      "\n",
      "Successfully loaded CSV file: 'KL_several_m_varying_EpsCG_and_EpsMSCG_processed_parameter_values.csv' \n",
      "from directory: '/nvme/h/cy22sg1/qpb_data_analysis/core/unit_tests/mock_data/valid_csv_files'.\n",
      "\n",
      "## Basic Information\n",
      "\n",
      "DataFrame Shape: 48 rows × 29 columns\n",
      "\n",
      "Columns with empty values:\n",
      "\n",
      "  Adjusted_average_core_hours_per_spinor: 39 rows with empty values\n",
      "\n",
      "Checking for unusual data types:\n",
      "\n",
      "  No unusual data types detected in the CSV file.\n",
      "\n",
      "## Sample Data (3 rows)\n",
      "\n",
      "| Filename                                                                                  | Main_program_type   | Kernel_operator_type   | MPI_geometry   |   Threads_per_process |   Configuration_label |   QCD_beta_value |   APE_alpha |   APE_iterations |   Rho_value |   Bare_mass |   Clover_coefficient |   Plaquette |   Number_of_spinors |   KL_diagonal_order |   KL_scaling_factor |   Total_calculation_time | Overlap_operator_method   |   CG_epsilon |   MSCG_epsilon |   Temporal_lattice_size |   Spatial_lattice_size |   Number_of_cores |   Number_of_vectors |   Average_number_of_MSCG_iterations_per_spinor |   Average_number_of_MV_multiplications_per_spinor |   Average_wall_clock_time_per_spinor |   Average_core_hours_per_spinor |   Adjusted_average_core_hours_per_spinor |\n",
      "|:------------------------------------------------------------------------------------------|:--------------------|:-----------------------|:---------------|----------------------:|----------------------:|-----------------:|------------:|-----------------:|------------:|------------:|---------------------:|------------:|--------------------:|--------------------:|--------------------:|-------------------------:|:--------------------------|-------------:|---------------:|------------------------:|-----------------------:|------------------:|--------------------:|-----------------------------------------------:|--------------------------------------------------:|-------------------------------------:|--------------------------------:|-----------------------------------------:|\n",
      "| KL_Standard_beta6p20_n1_mu1p0_rho1p0_cSW0_EpsCG1e-8_EpsMSCG1e-12_m0p15_config0043000.txt  | invert              | Wilson                 | (4, 8, 8)      |                     1 |               0043000 |              6.2 |        0.72 |                1 |           1 |        0.15 |                    0 |    0.906364 |                  12 |                   1 |                   1 |                  1737.13 | KL                        |       0.0001 |          1e-06 |                      48 |                     24 |               256 |                   1 |                                        41.1667 |                                           144.76  |                              10.2941 |                         8.95584 |                                      nan |\n",
      "| KL_Standard_beta6p20_n1_mu1p0_rho1p0_cSW0_EpsCG1e-8_EpsMSCG1e-14_m0p15_config0043000.txt  | invert              | Wilson                 | (4, 8, 8)      |                     1 |               0043000 |              6.2 |        0.72 |                1 |           1 |        0.15 |                    0 |    0.906364 |                  12 |                   1 |                   1 |                  2026.74 | KL                        |       0.0001 |          1e-07 |                      48 |                     24 |               256 |                   1 |                                        41.1667 |                                           168.895 |                              12.0103 |                        10.449   |                                      nan |\n",
      "| KL_Standard_beta6p20_n1_mu1p0_rho1p0_cSW0_EpsCG1e-12_EpsMSCG1e-12_m0p05_config0011000.txt | invert              | Wilson                 | (4, 8, 8)      |                     1 |               0011000 |              6.2 |        0.72 |                1 |           1 |        0.05 |                    0 |    0.906042 |                  12 |                   1 |                   1 |                  7286.37 | KL                        |       1e-06  |          1e-06 |                      48 |                     24 |               256 |                   1 |                                       163.417  |                                           607.197 |                              43.1785 |                        37.5653  |                                      nan |\n",
      "\n",
      "## Statistical Summary\n",
      "\n",
      "|                                                 |   count |           mean |            std |         min |         25% |         50% |         75% |          max |\n",
      "|:------------------------------------------------|--------:|---------------:|---------------:|------------:|------------:|------------:|------------:|-------------:|\n",
      "| Threads_per_process                             |      48 |    1.1875      |    0.394443    |    1        |    1        |    1        |    1        |     2        |\n",
      "| APE_alpha                                       |      48 |    0.72        |    3.36592e-16 |    0.72     |    0.72     |    0.72     |    0.72     |     0.72     |\n",
      "| APE_iterations                                  |      48 |    1           |    0           |    1        |    1        |    1        |    1        |     1        |\n",
      "| Rho_value                                       |      48 |    1           |    0           |    1        |    1        |    1        |    1        |     1        |\n",
      "| Bare_mass                                       |      48 |    0.125       |    0.0437595   |    0.05     |    0.125    |    0.15     |    0.15     |     0.15     |\n",
      "| Clover_coefficient                              |      48 |    0           |    0           |    0        |    0        |    0        |    0        |     0        |\n",
      "| Plaquette                                       |      48 |    0.906219    |    0.000140867 |    0.906002 |    0.906084 |    0.906293 |    0.906337 |     0.906364 |\n",
      "| Number_of_spinors                               |      48 |   12           |    0           |   12        |   12        |   12        |   12        |    12        |\n",
      "| KL_diagonal_order                               |      48 |    1           |    0           |    1        |    1        |    1        |    1        |     1        |\n",
      "| KL_scaling_factor                               |      48 |    1           |    0           |    1        |    1        |    1        |    1        |     1        |\n",
      "| Total_calculation_time                          |      48 | 4729.12        | 2933.09        | 1140.68     | 2568.77     | 4241.5      | 6295.92     | 11254.7      |\n",
      "| CG_epsilon                                      |      48 |    2.845e-05   |    4.19381e-05 |    1e-07    |    1e-06    |    1e-05    |    3.25e-05 |     0.0001   |\n",
      "| MSCG_epsilon                                    |      48 |    1.59063e-05 |    3.24095e-05 |    1e-07    |    1e-07    |    1e-06    |    1e-05    |     0.0001   |\n",
      "| Temporal_lattice_size                           |      48 |   48           |    0           |   48        |   48        |   48        |   48        |    48        |\n",
      "| Spatial_lattice_size                            |      48 |   24           |    0           |   24        |   24        |   24        |   24        |    24        |\n",
      "| Number_of_cores                                 |      48 |  196           |   80.7455      |   64        |  128        |  256        |  256        |   256        |\n",
      "| Number_of_vectors                               |      48 |    1           |    0           |    1        |    1        |    1        |    1        |     1        |\n",
      "| Average_number_of_MV_multiplications_per_spinor |      48 |  277.745       |  231.801       |   11.0985   |  132.279    |  225.693    |  372.635    |   921.732    |\n",
      "| Average_wall_clock_time_per_spinor              |      48 |  136.703       |  259.627       |    6.33494  |   11.5891   |   21.8749   |   47.8052   |   937.896    |\n",
      "| Average_core_hours_per_spinor                   |      48 |   17.8309      |   13.0888      |    5.88084  |    8.69426  |   13.8675   |   21.7325   |    57.0245   |\n",
      "| Adjusted_average_core_hours_per_spinor          |       9 |   11.2736      |    4.05912     |    6.53663  |    7.00631  |   10.9413   |   15.3951   |    16.6737   |\n",
      "\n",
      "\n"
     ]
    }
   ],
   "source": [
    "cmd = [\n",
    "    \"python\",\n",
    "    SCRIPT_PATH,\n",
    "    \"-csv\",\n",
    "    MOCK_CSV_PATH,\n",
    "    \"-out\",\n",
    "    OUTPUT_DIRECTORY,\n",
    "    \"--output_format\",\n",
    "    \"md\",  # Use markdown format\n",
    "    \"--sample_rows\",\n",
    "    \"3\",\n",
    "    \"--field_statistics\",\n",
    "    \"--output_filename\",\n",
    "    \"test_markdown_output\",\n",
    "]\n",
    "\n",
    "run_command(cmd, \"Output in Markdown format\")\n",
    "\n",
    "# Display the content of the generated markdown file\n",
    "md_file = os.path.join(OUTPUT_DIRECTORY, \"test_markdown_output_summary.md\")\n",
    "if os.path.exists(md_file):\n",
    "    print(\"\\nGenerated Markdown file contents:\")\n",
    "    print(\"-\" * 50)\n",
    "    with open(md_file, \"r\") as f:\n",
    "        print(f.read())\n",
    "else:\n",
    "    print(f\"\\nWarning: Could not find expected markdown file at {md_file}\")"
   ]
  },
  {
   "cell_type": "markdown",
   "id": "test-output-format-tex",
   "metadata": {},
   "source": [
    "### Test different output formats (LaTeX)"
   ]
  },
  {
   "cell_type": "code",
   "execution_count": 12,
   "id": "output-format-tex",
   "metadata": {},
   "outputs": [
    {
     "name": "stdout",
     "output_type": "stream",
     "text": [
      "\n",
      "================================================================================\n",
      "TESTING: Output in LaTeX format\n",
      "COMMAND: python /nvme/h/cy22sg1/qpb_data_analysis/core/src/utils/inspect_csv_file.py -csv /nvme/h/cy22sg1/qpb_data_analysis/core/tests/unit_tests/mock_data/valid_csv_files/KL_several_m_varying_EpsCG_and_EpsMSCG_processed_parameter_values.csv -out /nvme/h/cy22sg1/qpb_data_analysis/core/tests/integration_tests/test_inspect_csv_file_output --output_format tex --sample_rows 3 --field_statistics --output_filename test_latex_output\n",
      "================================================================================\n",
      "\n",
      "   -- Summary of the 'KL_several_m_varying_EpsCG_and_EpsMSCG_processed_parameter_values.csv' CSV file generated.\n",
      "\n",
      "--------------------------------------------------\n",
      "✅ Test 'Output in LaTeX format' passed!\n",
      "--------------------------------------------------\n",
      "\n",
      "Generated LaTeX file contents (first 20 lines):\n",
      "--------------------------------------------------\n",
      "\\section{File Details}\n",
      "\n",
      "Successfully loaded CSV file: 'KL_several_m_varying_EpsCG_and_EpsMSCG_processed_parameter_values.csv' \n",
      "from directory: '/nvme/h/cy22sg1/qpb_data_analysis/core/unit_tests/mock_data/valid_csv_files'.\n",
      "\n",
      "\\section{Basic Information}\n",
      "\n",
      "DataFrame Shape: 48 rows × 29 columns\n",
      "\n",
      "Columns with empty values:\n",
      "\n",
      "  Adjusted_average_core_hours_per_spinor: 39 rows with empty values\n",
      "\n",
      "Checking for unusual data types:\n",
      "\n",
      "  No unusual data types detected in the CSV file.\n",
      "\n",
      "\\section{Sample Data (3 rows)}\n",
      "\n",
      "\\begin{tabular}{llllrllrrrrrrrrrrlrrrrrrlrrrr}\n",
      "... (more content omitted)\n"
     ]
    }
   ],
   "source": [
    "cmd = [\n",
    "    \"python\",\n",
    "    SCRIPT_PATH,\n",
    "    \"-csv\",\n",
    "    MOCK_CSV_PATH,\n",
    "    \"-out\",\n",
    "    OUTPUT_DIRECTORY,\n",
    "    \"--output_format\",\n",
    "    \"tex\",  # Use LaTeX format\n",
    "    \"--sample_rows\",\n",
    "    \"3\",\n",
    "    \"--field_statistics\",\n",
    "    \"--output_filename\",\n",
    "    \"test_latex_output\",\n",
    "]\n",
    "\n",
    "run_command(cmd, \"Output in LaTeX format\")\n",
    "\n",
    "# Display the content of the generated LaTeX file\n",
    "tex_file = os.path.join(OUTPUT_DIRECTORY, \"test_latex_output_summary.tex\")\n",
    "if os.path.exists(tex_file):\n",
    "    print(\"\\nGenerated LaTeX file contents (first 20 lines):\")\n",
    "    print(\"-\" * 50)\n",
    "    with open(tex_file, \"r\") as f:\n",
    "        lines = f.readlines()\n",
    "        for i, line in enumerate(lines):\n",
    "            if i < 20:  # Show just the first 20 lines to avoid overwhelming output\n",
    "                print(line, end=\"\")\n",
    "            else:\n",
    "                print(\"... (more content omitted)\")\n",
    "                break\n",
    "else:\n",
    "    print(f\"\\nWarning: Could not find expected LaTeX file at {tex_file}\")"
   ]
  },
  {
   "cell_type": "markdown",
   "id": "test-separate-by-type",
   "metadata": {},
   "source": [
    "### Test separate by type"
   ]
  },
  {
   "cell_type": "code",
   "execution_count": 13,
   "id": "separate-by-type",
   "metadata": {},
   "outputs": [
    {
     "name": "stdout",
     "output_type": "stream",
     "text": [
      "\n",
      "================================================================================\n",
      "TESTING: Separate columns by type in uniqueness report\n",
      "COMMAND: python /nvme/h/cy22sg1/qpb_data_analysis/core/src/utils/inspect_csv_file.py -csv /nvme/h/cy22sg1/qpb_data_analysis/core/tests/unit_tests/mock_data/valid_csv_files/KL_several_m_varying_EpsCG_and_EpsMSCG_processed_parameter_values.csv -out /nvme/h/cy22sg1/qpb_data_analysis/core/tests/integration_tests/test_inspect_csv_file_output --uniqueness_report --separate_by_type --output_filename test_separate_by_type\n",
      "================================================================================\n",
      "\n",
      "   -- Summary of the 'KL_several_m_varying_EpsCG_and_EpsMSCG_processed_parameter_values.csv' CSV file generated.\n",
      "\n",
      "--------------------------------------------------\n",
      "✅ Test 'Separate columns by type in uniqueness report' passed!\n",
      "--------------------------------------------------\n"
     ]
    }
   ],
   "source": [
    "cmd = [\n",
    "    \"python\",\n",
    "    SCRIPT_PATH,\n",
    "    \"-csv\",\n",
    "    MOCK_CSV_PATH,\n",
    "    \"-out\",\n",
    "    OUTPUT_DIRECTORY,\n",
    "    \"--uniqueness_report\",\n",
    "    \"--separate_by_type\",\n",
    "    \"--output_filename\",\n",
    "    \"test_separate_by_type\",\n",
    "]\n",
    "\n",
    "run_command(cmd, \"Separate columns by type in uniqueness report\")"
   ]
  },
  {
   "cell_type": "markdown",
   "id": "test-grouped-summary",
   "metadata": {},
   "source": [
    "### Test grouped summary tables"
   ]
  },
  {
   "cell_type": "code",
   "execution_count": 14,
   "id": "grouped-summary",
   "metadata": {},
   "outputs": [
    {
     "name": "stdout",
     "output_type": "stream",
     "text": [
      "Fetching column names for grouped summary test:\n",
      "\n",
      "Successfully loaded CSV file: 'KL_several_m_varying_EpsCG_and_EpsMSCG_processed_parameter_values.csv' \n",
      "from directory: '/nvme/h/cy22sg1/qpb_data_analysis/core/tests/unit_tests/mock_data/valid_csv_files'.\n",
      "DataFrame Shape: 48 rows × 29 columns\n",
      "Columns with empty values:\n",
      "  Adjusted_average_core_hours_per_spinor: 39 rows with empty values\n",
      "  No unusual data types detected in the CSV file.\n",
      "\n",
      "Columns\n",
      "=======\n",
      "Tunable Parameters:\n",
      "  APE_alpha\n",
      "  APE_iterations\n",
      "  Bare_mass\n",
      "  CG_epsilon\n",
      "  Clover_coefficient\n",
      "  Configuration_label\n",
      "  KL_diagonal_order\n",
      "  KL_scaling_factor\n",
      "  Kernel_operator_type\n",
      "  MPI_geometry\n",
      "  MSCG_epsilon\n",
      "  Main_program_type\n",
      "  Number_of_spinors\n",
      "  Number_of_vectors\n",
      "  Overlap_operator_method\n",
      "  QCD_beta_value\n",
      "  Rho_value\n",
      "  Threads_per_process\n",
      "Output Quantities:\n",
      "  Adjusted_average_core_hours_per_spinor\n",
      "  Average_core_hours_per_spinor\n",
      "  Average_number_of_MSCG_iterations_per_spinor\n",
      "  Average_number_of_MV_multiplications_per_spinor\n",
      "  Average_wall_clock_time_per_spinor\n",
      "  Filename\n",
      "  Number_of_cores\n",
      "  Plaquette\n",
      "  Spatial_lattice_size\n",
      "  Temporal_lattice_size\n",
      "  Total_calculation_time\n",
      "   -- Summary of the 'KL_several_m_varying_EpsCG_and_EpsMSCG_processed_parameter_values.csv' CSV file generated.\n",
      "\n",
      "\n",
      "================================================================================\n",
      "TESTING: Grouped summary tables\n",
      "COMMAND: python /nvme/h/cy22sg1/qpb_data_analysis/core/src/utils/inspect_csv_file.py -csv /nvme/h/cy22sg1/qpb_data_analysis/core/tests/unit_tests/mock_data/valid_csv_files/KL_several_m_varying_EpsCG_and_EpsMSCG_processed_parameter_values.csv -out /nvme/h/cy22sg1/qpb_data_analysis/core/tests/integration_tests/test_inspect_csv_file_output --add_grouped_summary --value_variable CG_epsilon --row_variable m --column_variable MSCG_epsilon --aggregation mean --output_filename test_grouped_summary\n",
      "================================================================================\n",
      "\n",
      "   -- Summary of the 'KL_several_m_varying_EpsCG_and_EpsMSCG_processed_parameter_values.csv' CSV file generated.\n",
      "\n",
      "--------------------------------------------------\n",
      "✅ Test 'Grouped summary tables' passed!\n",
      "--------------------------------------------------\n"
     ]
    }
   ],
   "source": [
    "# First, let's list the fields to choose appropriate columns for the summary\n",
    "fields_cmd = [\n",
    "    \"python\",\n",
    "    SCRIPT_PATH,\n",
    "    \"-csv\",\n",
    "    MOCK_CSV_PATH,\n",
    "    \"--list_fields\",\n",
    "]\n",
    "\n",
    "print(\"Fetching column names for grouped summary test:\\n\")\n",
    "fields_process = subprocess.run(fields_cmd, capture_output=True, text=True)\n",
    "print(fields_process.stdout)\n",
    "\n",
    "# Replace these with actual column names from your CSV\n",
    "value_variable = \"CG_epsilon\"  # A numeric column\n",
    "row_variable = \"m\"  # A categorical column for rows\n",
    "column_variable = \"MSCG_epsilon\"  # A categorical column for columns\n",
    "\n",
    "cmd = [\n",
    "    \"python\",\n",
    "    SCRIPT_PATH,\n",
    "    \"-csv\",\n",
    "    MOCK_CSV_PATH,\n",
    "    \"-out\",\n",
    "    OUTPUT_DIRECTORY,\n",
    "    \"--add_grouped_summary\",\n",
    "    \"--value_variable\",\n",
    "    value_variable,\n",
    "    \"--row_variable\",\n",
    "    row_variable,\n",
    "    \"--column_variable\",\n",
    "    column_variable,\n",
    "    \"--aggregation\",\n",
    "    \"mean\",  # Calculate mean values\n",
    "    \"--output_filename\",\n",
    "    \"test_grouped_summary\",\n",
    "]\n",
    "\n",
    "run_command(cmd, \"Grouped summary tables\")"
   ]
  },
  {
   "cell_type": "markdown",
   "id": "test-multiple-options",
   "metadata": {},
   "source": [
    "### Test multiple options together"
   ]
  },
  {
   "cell_type": "code",
   "execution_count": 15,
   "id": "multiple-options",
   "metadata": {},
   "outputs": [
    {
     "name": "stdout",
     "output_type": "stream",
     "text": [
      "\n",
      "================================================================================\n",
      "TESTING: Combined analysis with multiple options\n",
      "COMMAND: python /nvme/h/cy22sg1/qpb_data_analysis/core/src/utils/inspect_csv_file.py -csv /nvme/h/cy22sg1/qpb_data_analysis/core/tests/unit_tests/mock_data/valid_csv_files/KL_several_m_varying_EpsCG_and_EpsMSCG_processed_parameter_values.csv -out /nvme/h/cy22sg1/qpb_data_analysis/core/tests/integration_tests/test_inspect_csv_file_output --list_fields --sample_rows 3 --uniqueness_report --field_statistics --output_format md --output_filename test_comprehensive_output\n",
      "================================================================================\n",
      "\n",
      "   -- Summary of the 'KL_several_m_varying_EpsCG_and_EpsMSCG_processed_parameter_values.csv' CSV file generated.\n",
      "\n",
      "--------------------------------------------------\n",
      "✅ Test 'Combined analysis with multiple options' passed!\n",
      "--------------------------------------------------\n"
     ]
    }
   ],
   "source": [
    "cmd = [\n",
    "    \"python\",\n",
    "    SCRIPT_PATH,\n",
    "    \"-csv\",\n",
    "    MOCK_CSV_PATH,\n",
    "    \"-out\",\n",
    "    OUTPUT_DIRECTORY,\n",
    "    \"--list_fields\",\n",
    "    \"--sample_rows\",\n",
    "    \"3\",\n",
    "    \"--uniqueness_report\",\n",
    "    \"--field_statistics\",\n",
    "    \"--output_format\",\n",
    "    \"md\",\n",
    "    \"--output_filename\",\n",
    "    \"test_comprehensive_output\",\n",
    "]\n",
    "\n",
    "run_command(cmd, \"Combined analysis with multiple options\")"
   ]
  },
  {
   "cell_type": "markdown",
   "id": "test-different-aggregations",
   "metadata": {},
   "source": [
    "### Test different aggregation methods"
   ]
  },
  {
   "cell_type": "code",
   "execution_count": 16,
   "id": "different-aggregations",
   "metadata": {},
   "outputs": [
    {
     "name": "stdout",
     "output_type": "stream",
     "text": [
      "\n",
      "================================================================================\n",
      "TESTING: Grouped summary with count aggregation\n",
      "COMMAND: python /nvme/h/cy22sg1/qpb_data_analysis/core/src/utils/inspect_csv_file.py -csv /nvme/h/cy22sg1/qpb_data_analysis/core/tests/unit_tests/mock_data/valid_csv_files/KL_several_m_varying_EpsCG_and_EpsMSCG_processed_parameter_values.csv -out /nvme/h/cy22sg1/qpb_data_analysis/core/tests/integration_tests/test_inspect_csv_file_output --add_grouped_summary --value_variable CG_epsilon --row_variable m --column_variable MSCG_epsilon --aggregation count --output_filename test_aggregation_count\n",
      "================================================================================\n",
      "\n",
      "   -- Summary of the 'KL_several_m_varying_EpsCG_and_EpsMSCG_processed_parameter_values.csv' CSV file generated.\n",
      "\n",
      "--------------------------------------------------\n",
      "✅ Test 'Grouped summary with count aggregation' passed!\n",
      "--------------------------------------------------\n",
      "\n",
      "================================================================================\n",
      "TESTING: Grouped summary with min aggregation\n",
      "COMMAND: python /nvme/h/cy22sg1/qpb_data_analysis/core/src/utils/inspect_csv_file.py -csv /nvme/h/cy22sg1/qpb_data_analysis/core/tests/unit_tests/mock_data/valid_csv_files/KL_several_m_varying_EpsCG_and_EpsMSCG_processed_parameter_values.csv -out /nvme/h/cy22sg1/qpb_data_analysis/core/tests/integration_tests/test_inspect_csv_file_output --add_grouped_summary --value_variable CG_epsilon --row_variable m --column_variable MSCG_epsilon --aggregation min --output_filename test_aggregation_min\n",
      "================================================================================\n",
      "\n",
      "   -- Summary of the 'KL_several_m_varying_EpsCG_and_EpsMSCG_processed_parameter_values.csv' CSV file generated.\n",
      "\n",
      "--------------------------------------------------\n",
      "✅ Test 'Grouped summary with min aggregation' passed!\n",
      "--------------------------------------------------\n",
      "\n",
      "================================================================================\n",
      "TESTING: Grouped summary with max aggregation\n",
      "COMMAND: python /nvme/h/cy22sg1/qpb_data_analysis/core/src/utils/inspect_csv_file.py -csv /nvme/h/cy22sg1/qpb_data_analysis/core/tests/unit_tests/mock_data/valid_csv_files/KL_several_m_varying_EpsCG_and_EpsMSCG_processed_parameter_values.csv -out /nvme/h/cy22sg1/qpb_data_analysis/core/tests/integration_tests/test_inspect_csv_file_output --add_grouped_summary --value_variable CG_epsilon --row_variable m --column_variable MSCG_epsilon --aggregation max --output_filename test_aggregation_max\n",
      "================================================================================\n",
      "\n",
      "   -- Summary of the 'KL_several_m_varying_EpsCG_and_EpsMSCG_processed_parameter_values.csv' CSV file generated.\n",
      "\n",
      "--------------------------------------------------\n",
      "✅ Test 'Grouped summary with max aggregation' passed!\n",
      "--------------------------------------------------\n",
      "\n",
      "================================================================================\n",
      "TESTING: Grouped summary with mean aggregation\n",
      "COMMAND: python /nvme/h/cy22sg1/qpb_data_analysis/core/src/utils/inspect_csv_file.py -csv /nvme/h/cy22sg1/qpb_data_analysis/core/tests/unit_tests/mock_data/valid_csv_files/KL_several_m_varying_EpsCG_and_EpsMSCG_processed_parameter_values.csv -out /nvme/h/cy22sg1/qpb_data_analysis/core/tests/integration_tests/test_inspect_csv_file_output --add_grouped_summary --value_variable CG_epsilon --row_variable m --column_variable MSCG_epsilon --aggregation mean --output_filename test_aggregation_mean\n",
      "================================================================================\n",
      "\n",
      "   -- Summary of the 'KL_several_m_varying_EpsCG_and_EpsMSCG_processed_parameter_values.csv' CSV file generated.\n",
      "\n",
      "--------------------------------------------------\n",
      "✅ Test 'Grouped summary with mean aggregation' passed!\n",
      "--------------------------------------------------\n"
     ]
    }
   ],
   "source": [
    "# Test each available aggregation method\n",
    "aggregation_methods = [\"count\", \"min\", \"max\", \"mean\"]\n",
    "\n",
    "for agg_method in aggregation_methods:\n",
    "    cmd = [\n",
    "        \"python\",\n",
    "        SCRIPT_PATH,\n",
    "        \"-csv\",\n",
    "        MOCK_CSV_PATH,\n",
    "        \"-out\",\n",
    "        OUTPUT_DIRECTORY,\n",
    "        \"--add_grouped_summary\",\n",
    "        \"--value_variable\",\n",
    "        value_variable,\n",
    "        \"--row_variable\",\n",
    "        row_variable,\n",
    "        \"--column_variable\",\n",
    "        column_variable,\n",
    "        \"--aggregation\",\n",
    "        agg_method,\n",
    "        \"--output_filename\",\n",
    "        f\"test_aggregation_{agg_method}\",\n",
    "    ]\n",
    "\n",
    "    run_command(cmd, f\"Grouped summary with {agg_method} aggregation\")"
   ]
  }
 ],
 "metadata": {
  "kernelspec": {
   "display_name": "KLenv",
   "language": "python",
   "name": "python3"
  },
  "language_info": {
   "codemirror_mode": {
    "name": "ipython",
    "version": 3
   },
   "file_extension": ".py",
   "mimetype": "text/x-python",
   "name": "python",
   "nbconvert_exporter": "python",
   "pygments_lexer": "ipython3",
   "version": "3.10.15"
  }
 },
 "nbformat": 4,
 "nbformat_minor": 5
}
