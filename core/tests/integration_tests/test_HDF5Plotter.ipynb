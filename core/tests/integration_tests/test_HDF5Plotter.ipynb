{
 "cells": [
  {
   "cell_type": "markdown",
   "id": "cb5a8e86",
   "metadata": {},
   "source": [
    "### Dependencies"
   ]
  },
  {
   "cell_type": "code",
   "execution_count": 1,
   "id": "2e78bb91",
   "metadata": {},
   "outputs": [],
   "source": [
    "import os\n",
    "\n",
    "import matplotlib.pyplot as plt\n",
    "from matplotlib.ticker import MaxNLocator\n",
    "import numpy as np\n",
    "import gvar as gv\n",
    "import lsqfit\n",
    "\n",
    "import library.effective_mass as effective_mass\n",
    "import library.momentum_correlator as momentum_correlator\n",
    "\n",
    "from library import (\n",
    "    ROOT,\n",
    "    is_valid_file,\n",
    "    is_valid_directory,\n",
    "    HDF5Analyzer,\n",
    "    HDF5Plotter,\n",
    ")"
   ]
  },
  {
   "cell_type": "markdown",
   "id": "7de29b51",
   "metadata": {},
   "source": [
    "### Set constants:"
   ]
  },
  {
   "cell_type": "code",
   "execution_count": 2,
   "id": "3b95ced5",
   "metadata": {},
   "outputs": [
    {
     "data": {
      "text/plain": [
       "True"
      ]
     },
     "execution_count": 2,
     "metadata": {},
     "output_type": "execute_result"
    }
   ],
   "source": [
    "PROCESSED_DATA_FILES_SET_DIRECTORY = os.path.join(\n",
    "    ROOT, \"data_files/processed/invert/KL_several_config_varying_n/\"\n",
    ")\n",
    "is_valid_directory(PROCESSED_DATA_FILES_SET_DIRECTORY)\n",
    "\n",
    "CORRELATORS_JACKKNIFE_ANALYSIS_HDF5_FILE_FULL_PATH = os.path.join(\n",
    "    PROCESSED_DATA_FILES_SET_DIRECTORY,\n",
    "    \"correlators_jackknife_analysis.h5\",\n",
    ")\n",
    "is_valid_file(CORRELATORS_JACKKNIFE_ANALYSIS_HDF5_FILE_FULL_PATH)\n",
    "\n",
    "PLOTS_DIRECTORY = os.path.join(\n",
    "    ROOT, \"core/tests/integration_tests/test_HDF5Plotter_output\"\n",
    ")\n",
    "is_valid_directory(PLOTS_DIRECTORY)"
   ]
  },
  {
   "cell_type": "code",
   "execution_count": 3,
   "id": "717e97b3",
   "metadata": {},
   "outputs": [],
   "source": [
    "plotter = HDF5Plotter(\n",
    "    CORRELATORS_JACKKNIFE_ANALYSIS_HDF5_FILE_FULL_PATH, PLOTS_DIRECTORY\n",
    ")"
   ]
  },
  {
   "cell_type": "markdown",
   "id": "90108eed",
   "metadata": {},
   "source": [
    "### Plots"
   ]
  },
  {
   "cell_type": "code",
   "execution_count": 4,
   "id": "7b20cd1f",
   "metadata": {},
   "outputs": [
    {
     "ename": "AttributeError",
     "evalue": "'HDF5Plotter' object has no attribute 'output_quantities'",
     "output_type": "error",
     "traceback": [
      "\u001b[0;31m---------------------------------------------------------------------------\u001b[0m",
      "\u001b[0;31mAttributeError\u001b[0m                            Traceback (most recent call last)",
      "Cell \u001b[0;32mIn[4], line 1\u001b[0m\n\u001b[0;32m----> 1\u001b[0m \u001b[43mplotter\u001b[49m\u001b[38;5;241;43m.\u001b[39;49m\u001b[43mplot_datasets\u001b[49m\u001b[43m(\u001b[49m\n\u001b[1;32m      2\u001b[0m \u001b[43m    \u001b[49m\u001b[38;5;124;43m\"\u001b[39;49m\u001b[38;5;124;43mJackknife_average_of_PCAC_mass_correlator\u001b[39;49m\u001b[38;5;124;43m\"\u001b[39;49m\u001b[43m,\u001b[49m\u001b[43m \u001b[49m\u001b[43mmerge_value_error\u001b[49m\u001b[38;5;241;43m=\u001b[39;49m\u001b[38;5;28;43;01mTrue\u001b[39;49;00m\n\u001b[1;32m      3\u001b[0m \u001b[43m)\u001b[49m\n",
      "File \u001b[0;32m~/qpb_data_analysis/core/library/visualization/hdf5_plotter.py:610\u001b[0m, in \u001b[0;36mHDF5Plotter.plot_datasets\u001b[0;34m(self, dataset_names, output_directory, x_axis, time_offset, filter_func, plot_kwargs, group_by, exclude_from_grouping, merge_value_error)\u001b[0m\n\u001b[1;32m    607\u001b[0m \u001b[38;5;28;01mif\u001b[39;00m merge_value_error:\n\u001b[1;32m    608\u001b[0m     \u001b[38;5;28;01mif\u001b[39;00m \u001b[38;5;28misinstance\u001b[39m(dataset_names, \u001b[38;5;28mstr\u001b[39m):\n\u001b[1;32m    609\u001b[0m         \u001b[38;5;66;03m# Single base dataset name\u001b[39;00m\n\u001b[0;32m--> 610\u001b[0m         df \u001b[38;5;241m=\u001b[39m \u001b[38;5;28;43mself\u001b[39;49m\u001b[38;5;241;43m.\u001b[39;49m\u001b[43mcreate_merged_value_error_dataframe\u001b[49m\u001b[43m(\u001b[49m\n\u001b[1;32m    611\u001b[0m \u001b[43m            \u001b[49m\u001b[43mdataset_names\u001b[49m\u001b[43m,\u001b[49m\n\u001b[1;32m    612\u001b[0m \u001b[43m            \u001b[49m\u001b[43madd_time_column\u001b[49m\u001b[38;5;241;43m=\u001b[39;49m\u001b[43m(\u001b[49m\u001b[43mx_axis\u001b[49m\u001b[43m \u001b[49m\u001b[38;5;241;43m==\u001b[39;49m\u001b[43m \u001b[49m\u001b[38;5;124;43m\"\u001b[39;49m\u001b[38;5;124;43mtime_index\u001b[39;49m\u001b[38;5;124;43m\"\u001b[39;49m\u001b[43m)\u001b[49m\u001b[43m,\u001b[49m\n\u001b[1;32m    613\u001b[0m \u001b[43m            \u001b[49m\u001b[43mtime_offset\u001b[49m\u001b[38;5;241;43m=\u001b[39;49m\u001b[43mtime_offset\u001b[49m\u001b[43m,\u001b[49m\n\u001b[1;32m    614\u001b[0m \u001b[43m            \u001b[49m\u001b[43mfilter_func\u001b[49m\u001b[38;5;241;43m=\u001b[39;49m\u001b[43mfilter_func\u001b[49m\u001b[43m,\u001b[49m\n\u001b[1;32m    615\u001b[0m \u001b[43m        \u001b[49m\u001b[43m)\u001b[49m\n\u001b[1;32m    616\u001b[0m         \u001b[38;5;66;03m# Update dataset_names to be the cleaned base name\u001b[39;00m\n\u001b[1;32m    617\u001b[0m         dataset_names \u001b[38;5;241m=\u001b[39m [\n\u001b[1;32m    618\u001b[0m             dataset_names\u001b[38;5;241m.\u001b[39mreplace(\u001b[38;5;124m\"\u001b[39m\u001b[38;5;124m_mean_values\u001b[39m\u001b[38;5;124m\"\u001b[39m, \u001b[38;5;124m\"\u001b[39m\u001b[38;5;124m\"\u001b[39m)\u001b[38;5;241m.\u001b[39mreplace(\n\u001b[1;32m    619\u001b[0m                 \u001b[38;5;124m\"\u001b[39m\u001b[38;5;124m_error_values\u001b[39m\u001b[38;5;124m\"\u001b[39m, \u001b[38;5;124m\"\u001b[39m\u001b[38;5;124m\"\u001b[39m\n\u001b[1;32m    620\u001b[0m             )\n\u001b[1;32m    621\u001b[0m         ]\n",
      "File \u001b[0;32m~/qpb_data_analysis/core/library/visualization/hdf5_plotter.py:490\u001b[0m, in \u001b[0;36mHDF5Plotter.create_merged_value_error_dataframe\u001b[0;34m(self, base_name, add_time_column, time_offset, filter_func, include_group_path)\u001b[0m\n\u001b[1;32m    469\u001b[0m \u001b[38;5;250m\u001b[39m\u001b[38;5;124;03m\"\"\"\u001b[39;00m\n\u001b[1;32m    470\u001b[0m \u001b[38;5;124;03mCreate a DataFrame with value-error tuples for a given base dataset name.\u001b[39;00m\n\u001b[1;32m    471\u001b[0m \n\u001b[0;32m   (...)\u001b[0m\n\u001b[1;32m    487\u001b[0m \u001b[38;5;124;03m    ValueError: If corresponding datasets can't be found or have incompatible shapes\u001b[39;00m\n\u001b[1;32m    488\u001b[0m \u001b[38;5;124;03m\"\"\"\u001b[39;00m\n\u001b[1;32m    489\u001b[0m \u001b[38;5;66;03m# Get merged data for all matching groups\u001b[39;00m\n\u001b[0;32m--> 490\u001b[0m merged_data, clean_base_name \u001b[38;5;241m=\u001b[39m \u001b[38;5;28;43mself\u001b[39;49m\u001b[38;5;241;43m.\u001b[39;49m\u001b[43m_merge_value_error_datasets\u001b[49m\u001b[43m(\u001b[49m\u001b[43mbase_name\u001b[49m\u001b[43m)\u001b[49m\n\u001b[1;32m    492\u001b[0m \u001b[38;5;66;03m# Output column name (clean base name without any suffixes)\u001b[39;00m\n\u001b[1;32m    493\u001b[0m output_column_name \u001b[38;5;241m=\u001b[39m clean_base_name\n",
      "File \u001b[0;32m~/qpb_data_analysis/core/library/visualization/hdf5_plotter.py:406\u001b[0m, in \u001b[0;36mHDF5Plotter._merge_value_error_datasets\u001b[0;34m(self, base_name, group_path)\u001b[0m\n\u001b[1;32m    403\u001b[0m error_dataset_name \u001b[38;5;241m=\u001b[39m \u001b[38;5;124mf\u001b[39m\u001b[38;5;124m\"\u001b[39m\u001b[38;5;132;01m{\u001b[39;00mbase_name\u001b[38;5;132;01m}\u001b[39;00m\u001b[38;5;124m_error_values\u001b[39m\u001b[38;5;124m\"\u001b[39m\n\u001b[1;32m    405\u001b[0m \u001b[38;5;66;03m# Check if both datasets exist\u001b[39;00m\n\u001b[0;32m--> 406\u001b[0m \u001b[38;5;28;01mif\u001b[39;00m mean_dataset_name \u001b[38;5;129;01mnot\u001b[39;00m \u001b[38;5;129;01min\u001b[39;00m \u001b[38;5;28;43mself\u001b[39;49m\u001b[38;5;241;43m.\u001b[39;49m\u001b[43moutput_quantities\u001b[49m[\u001b[38;5;124m\"\u001b[39m\u001b[38;5;124mpaths_by_name\u001b[39m\u001b[38;5;124m\"\u001b[39m]:\n\u001b[1;32m    407\u001b[0m     \u001b[38;5;28;01mraise\u001b[39;00m \u001b[38;5;167;01mValueError\u001b[39;00m(\n\u001b[1;32m    408\u001b[0m         \u001b[38;5;124mf\u001b[39m\u001b[38;5;124m\"\u001b[39m\u001b[38;5;124mMean dataset \u001b[39m\u001b[38;5;124m'\u001b[39m\u001b[38;5;132;01m{\u001b[39;00mmean_dataset_name\u001b[38;5;132;01m}\u001b[39;00m\u001b[38;5;124m'\u001b[39m\u001b[38;5;124m not found in HDF5 file.\u001b[39m\u001b[38;5;124m\"\u001b[39m\n\u001b[1;32m    409\u001b[0m     )\n\u001b[1;32m    410\u001b[0m \u001b[38;5;28;01mif\u001b[39;00m error_dataset_name \u001b[38;5;129;01mnot\u001b[39;00m \u001b[38;5;129;01min\u001b[39;00m \u001b[38;5;28mself\u001b[39m\u001b[38;5;241m.\u001b[39moutput_quantities[\u001b[38;5;124m\"\u001b[39m\u001b[38;5;124mpaths_by_name\u001b[39m\u001b[38;5;124m\"\u001b[39m]:\n",
      "\u001b[0;31mAttributeError\u001b[0m: 'HDF5Plotter' object has no attribute 'output_quantities'"
     ]
    }
   ],
   "source": [
    "plotter.plot_datasets(\n",
    "    \"Jackknife_average_of_PCAC_mass_correlator\", merge_value_error=True\n",
    ")"
   ]
  }
 ],
 "metadata": {
  "kernelspec": {
   "display_name": "KLenv",
   "language": "python",
   "name": "python3"
  },
  "language_info": {
   "codemirror_mode": {
    "name": "ipython",
    "version": 3
   },
   "file_extension": ".py",
   "mimetype": "text/x-python",
   "name": "python",
   "nbconvert_exporter": "python",
   "pygments_lexer": "ipython3",
   "version": "3.10.15"
  }
 },
 "nbformat": 4,
 "nbformat_minor": 5
}
