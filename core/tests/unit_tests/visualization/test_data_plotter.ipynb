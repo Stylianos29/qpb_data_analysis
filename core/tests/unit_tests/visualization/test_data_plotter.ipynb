{
 "cells": [
  {
   "cell_type": "markdown",
   "metadata": {},
   "source": [
    "## test_data_plotter"
   ]
  },
  {
   "cell_type": "markdown",
   "metadata": {},
   "source": [
    "Dependencies:"
   ]
  },
  {
   "cell_type": "code",
   "execution_count": 1,
   "metadata": {},
   "outputs": [],
   "source": [
    "import os\n",
    "\n",
    "from library.data.processing import load_csv\n",
    "from library.visualization.data_plotter import DataPlotter\n",
    "from library.constants import ROOT"
   ]
  },
  {
   "cell_type": "markdown",
   "metadata": {},
   "source": [
    "Constants:"
   ]
  },
  {
   "cell_type": "code",
   "execution_count": 2,
   "metadata": {},
   "outputs": [],
   "source": [
    "TEST_CSV_FILE_PATH = os.path.join(\n",
    "    ROOT,\n",
    "    \"core/tests/mock_data/valid/\"\n",
    "    \"KL_several_m_varying_EpsCG_and_EpsMSCG_processed_parameter_values.csv\",\n",
    ")\n",
    "TEST_DATAFRAME = load_csv(TEST_CSV_FILE_PATH)\n",
    "TEST_OUTPUT_DIRECTORY_PATH = os.path.join(\n",
    "    ROOT, \"core/tests/test_outputs/\"\n",
    "    )\n",
    "TEST_DATA_PLOTTER = DataPlotter(TEST_DATAFRAME, TEST_OUTPUT_DIRECTORY_PATH)\n"
   ]
  },
  {
   "cell_type": "markdown",
   "metadata": {},
   "source": [
    "### Uniqueness report"
   ]
  },
  {
   "cell_type": "code",
   "execution_count": 3,
   "metadata": {},
   "outputs": [
    {
     "name": "stdout",
     "output_type": "stream",
     "text": [
      "Single-valued fields: unique value        | Multivalued fields: No of unique values\n",
      "-------------------------------------------------------------------------------------\n",
      "                                 TUNABLE PARAMETERS\n",
      "APE_alpha: 0.72                           | Bare_mass: 2\n",
      "APE_iterations: 1                         | CG_epsilon: 4\n",
      "Clover_coefficient: 0                     | Configuration_label: 6\n",
      "KL_diagonal_order: 1                      | MPI_geometry: 3\n",
      "KL_scaling_factor: 1                      | MSCG_epsilon: 4\n",
      "Kernel_operator_type: Wilson              | Threads_per_process: 2\n",
      "Main_program_type: invert                 | \n",
      "Number_of_spinors: 12                     | \n",
      "Number_of_vectors: 1                      | \n",
      "Overlap_operator_method: KL               | \n",
      "QCD_beta_value: 6.20                      | \n",
      "Rho_value: 1                              | \n",
      "\n",
      "                                  OUTPUT QUANTITIES\n",
      "Spatial_lattice_size: 24                  | Adjusted_average_core_hours_per_spinor: 9\n",
      "Temporal_lattice_size: 48                 | Average_core_hours_per_spinor: 48\n",
      "                                          | Average_number_of_MSCG_iterations_per_spinor: 30\n",
      "                                          | Average_number_of_MV_multiplications_per_spinor: 48\n",
      "                                          | Average_wall_clock_time_per_spinor: 48\n",
      "                                          | Filename: 48\n",
      "                                          | Number_of_cores: 3\n",
      "                                          | Plaquette: 6\n",
      "                                          | Total_calculation_time: 48\n"
     ]
    }
   ],
   "source": [
    "uniqueness_report = (\n",
    "    TEST_DATA_PLOTTER.generate_column_uniqueness_report(max_width=85)\n",
    ")\n",
    "print(uniqueness_report)"
   ]
  },
  {
   "cell_type": "markdown",
   "metadata": {},
   "source": [
    "## Plots"
   ]
  },
  {
   "cell_type": "code",
   "execution_count": 8,
   "metadata": {},
   "outputs": [
    {
     "name": "stdout",
     "output_type": "stream",
     "text": [
      "List of reduced multivalued tunable parameter names:\n",
      "['Bare_mass']\n"
     ]
    }
   ],
   "source": [
    "xaxis_variable = \"Average_number_of_MV_multiplications_per_spinor\"\n",
    "yaxis_variable = \"Average_core_hours_per_spinor\"\n",
    "\n",
    "TEST_DATA_PLOTTER.set_plot_variables(\n",
    "    xaxis_variable,\n",
    "    yaxis_variable,\n",
    "    clear_existing=True\n",
    ")\n",
    "\n",
    "TEST_DATA_PLOTTER.plot(\n",
    "    grouping_variable='CG_epsilon',\n",
    "    legend_location=\"best\",\n",
    "    excluded_from_grouping_list=[\"MPI_geometry\", 'Threads_per_process', 'Configuration_label', 'MSCG_epsilon'],\n",
    ")"
   ]
  },
  {
   "cell_type": "code",
   "execution_count": null,
   "metadata": {},
   "outputs": [],
   "source": []
  }
 ],
 "metadata": {
  "kernelspec": {
   "display_name": "KLenv",
   "language": "python",
   "name": "python3"
  },
  "language_info": {
   "codemirror_mode": {
    "name": "ipython",
    "version": 3
   },
   "file_extension": ".py",
   "mimetype": "text/x-python",
   "name": "python",
   "nbconvert_exporter": "python",
   "pygments_lexer": "ipython3",
   "version": "3.10.15"
  }
 },
 "nbformat": 4,
 "nbformat_minor": 2
}
