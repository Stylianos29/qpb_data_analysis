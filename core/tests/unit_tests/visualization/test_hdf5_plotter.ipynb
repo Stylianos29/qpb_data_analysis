{
 "cells": [
  {
   "cell_type": "markdown",
   "metadata": {},
   "source": [
    "## test_hdf5_plotter"
   ]
  },
  {
   "cell_type": "markdown",
   "metadata": {},
   "source": [
    "Dependencies:"
   ]
  },
  {
   "cell_type": "code",
   "execution_count": null,
   "metadata": {},
   "outputs": [],
   "source": [
    "import os\n",
    "\n",
    "from library.visualization.hdf5_plotter import HDF5Plotter\n",
    "from library.constants import ROOT"
   ]
  },
  {
   "cell_type": "markdown",
   "metadata": {},
   "source": [
    "Constants:"
   ]
  },
  {
   "cell_type": "code",
   "execution_count": 2,
   "metadata": {},
   "outputs": [],
   "source": [
    "TEST_HDF5_FILE_PATH = os.path.join(\n",
    "    ROOT,\n",
    "    \"core/tests/unit_tests/mock_data/valid/\"\n",
    "    \"KL_several_config_varying_n_correlators_jackknife_analysis.h5\"\n",
    ")\n",
    "TEST_OUTPUT_DIRECTORY_PATH = os.path.join(\n",
    "    ROOT, \"core/tests/test_outputs/\"\n",
    "    )\n",
    "TEST_HDF5_PLOTTER = HDF5Plotter(TEST_HDF5_FILE_PATH, TEST_OUTPUT_DIRECTORY_PATH)\n"
   ]
  },
  {
   "cell_type": "markdown",
   "metadata": {},
   "source": [
    "### Uniqueness report"
   ]
  },
  {
   "cell_type": "code",
   "execution_count": 3,
   "metadata": {},
   "outputs": [
    {
     "name": "stdout",
     "output_type": "stream",
     "text": [
      "Single-valued fields: unique value        | Multivalued fields: No of unique values\n",
      "-------------------------------------------------------------------------------------\n",
      "                                 TUNABLE PARAMETERS\n",
      "APE_alpha: 0.72                           | Bare_mass: 6\n",
      "APE_iterations: 1                         | KL_diagonal_order: 6\n",
      "CG_epsilon: 1e-06                         | Kernel_operator_type: 2\n",
      "Clover_coefficient: 0                     | \n",
      "KL_scaling_factor: 1                      | \n",
      "MSCG_epsilon: 1e-07                       | \n",
      "Main_program_type: invert                 | \n",
      "Number_of_gauge_configurations: 10        | \n",
      "Number_of_spinors: 12                     | \n",
      "Number_of_vectors: 1                      | \n",
      "Outer_solver_epsilon: 1e-12               | \n",
      "Overlap_operator_method: KL               | \n",
      "QCD_beta_value: 6.20                      | \n",
      "Rho_value: 1                              | \n",
      "Spatial_lattice_size: 24                  | \n",
      "Temporal_lattice_size: 48                 | \n",
      "Threads_per_process: 16                   | \n",
      "\n",
      "                                  OUTPUT QUANTITIES\n",
      "                                          | Adjusted_average_core_hours_per_spinor_values_list: 72\n",
      "                                          | Average_core_hours_per_spinor_values_list: 72\n",
      "                                          | Average_number_of_CG_iterations_per_spinor_values_list: 72\n",
      "                                          | Average_number_of_MSCG_iterations_per_spinor_values_list: 72\n",
      "                                          | Average_number_of_MV_multiplications_per_spinor_values_list: 72\n",
      "                                          | Average_wall_clock_time_per_spinor_values_list: 72\n",
      "                                          | Configuration_label_values_list: 72\n",
      "                                          | Filename_values_list: 72\n",
      "                                          | Jackknife_average_of_PCAC_mass_correlator_error_values: 72\n",
      "                                          | Jackknife_average_of_PCAC_mass_correlator_mean_values: 72\n",
      "                                          | Jackknife_average_of_g4g5_g5_correlator_error_values: 72\n",
      "                                          | Jackknife_average_of_g4g5_g5_correlator_mean_values: 72\n",
      "                                          | Jackknife_average_of_g4g5_g5_derivative_correlator_error_values: 72\n",
      "                                          | Jackknife_average_of_g4g5_g5_derivative_correlator_mean_values: 72\n",
      "                                          | Jackknife_average_of_g5_g5_correlator_error_values: 72\n",
      "                                          | Jackknife_average_of_g5_g5_correlator_mean_values: 72\n",
      "                                          | Jackknife_average_of_pion_effective_mass_correlator_error_values: 72\n",
      "                                          | Jackknife_average_of_pion_effective_mass_correlator_mean_values: 72\n",
      "                                          | Jackknife_samples_of_PCAC_mass_correlator_values_2D_array: 72\n",
      "                                          | Jackknife_samples_of_g4g5_g5_correlator_2D_array: 72\n",
      "                                          | Jackknife_samples_of_g4g5_g5_derivative_correlator_2D_array: 72\n",
      "                                          | Jackknife_samples_of_g5_g5_correlator_2D_array: 72\n",
      "                                          | Jackknife_samples_of_pion_effective_mass_correlator_values_2D_array: 72\n",
      "                                          | List_of_gauge_configuration_labels: 72\n",
      "                                          | List_of_qpb_log_filenames: 72\n",
      "                                          | MPI_geometry_values_list: 4\n",
      "                                          | MS_expansion_shifts_values_list: 6\n",
      "                                          | Number_of_cores_values_list: 4\n",
      "                                          | Plaquette_values_list: 72\n",
      "                                          | Total_calculation_time_values_list: 72\n"
     ]
    }
   ],
   "source": [
    "uniqueness_report = (\n",
    "    TEST_HDF5_PLOTTER.generate_uniqueness_report(max_width=85)\n",
    ")\n",
    "print(uniqueness_report)"
   ]
  },
  {
   "cell_type": "markdown",
   "metadata": {},
   "source": [
    "## Plots"
   ]
  },
  {
   "cell_type": "code",
   "execution_count": 4,
   "metadata": {},
   "outputs": [
    {
     "name": "stdout",
     "output_type": "stream",
     "text": [
      "List of reduced multivalued tunable parameter names:\n",
      "['KL_diagonal_order', 'Kernel_operator_type']\n"
     ]
    }
   ],
   "source": [
    "xaxis_variable = \"Average_number_of_MV_multiplications_per_spinor\"\n",
    "yaxis_variable = \"Average_core_hours_per_spinor\"\n",
    "\n",
    "TEST_HDF5_PLOTTER.plot_datasets(\n",
    "    \"Jackknife_average_of_PCAC_mass_correlator\",\n",
    "    merge_value_error=True,\n",
    "    group_by=\"Bare_mass\",\n",
    "    plot_kwargs={\n",
    "        \"legend_location\": \"best\",\n",
    "    }\n",
    "    )"
   ]
  },
  {
   "cell_type": "code",
   "execution_count": 5,
   "metadata": {},
   "outputs": [],
   "source": [
    "TEST_HDF5_PLOTTER.close()"
   ]
  }
 ],
 "metadata": {
  "kernelspec": {
   "display_name": "KLenv",
   "language": "python",
   "name": "python3"
  },
  "language_info": {
   "codemirror_mode": {
    "name": "ipython",
    "version": 3
   },
   "file_extension": ".py",
   "mimetype": "text/x-python",
   "name": "python",
   "nbconvert_exporter": "python",
   "pygments_lexer": "ipython3",
   "version": "3.10.15"
  }
 },
 "nbformat": 4,
 "nbformat_minor": 2
}
